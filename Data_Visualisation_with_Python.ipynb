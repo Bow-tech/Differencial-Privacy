{
  "nbformat": 4,
  "nbformat_minor": 0,
  "metadata": {
    "colab": {
      "name": "Data Visualisation with Python",
      "provenance": [],
      "collapsed_sections": [
        "gcfPZHcHrbff",
        "vdagRztSiYqj",
        "TUqxFso-muxF",
        "H5VxrldhrQbu",
        "wgDarfsQiiDY",
        "1WwBw978m0UQ",
        "K-lKtB-PrTwe",
        "gvEzuuWwikYM",
        "A_uo6vT2m1YO",
        "rP9VGEsFrUdp",
        "VjE2aB8imh51",
        "OnyYj9DNm2Wb",
        "1cQqJ1XfrVX7",
        "pA1T-xjgmXI_",
        "pUk1IjWarMoF",
        "B97yD-23rV9i",
        "-8QI23cGmp1c",
        "rLLyouAjrNqm",
        "KIW-2ZpcrWmJ",
        "SoDgeeHfvDS_",
        "vR64YCKrvMcY",
        "xH2tJyLYvQ9j"
      ],
      "toc_visible": true,
      "include_colab_link": true
    },
    "kernelspec": {
      "name": "python3",
      "display_name": "Python 3"
    }
  },
  "cells": [
    {
      "cell_type": "markdown",
      "metadata": {
        "id": "view-in-github",
        "colab_type": "text"
      },
      "source": [
        "<a href=\"https://colab.research.google.com/github/ImmaculateT/Differencial-Privacy/blob/master/Data_Visualisation_with_Python.ipynb\" target=\"_parent\"><img src=\"https://colab.research.google.com/assets/colab-badge.svg\" alt=\"Open In Colab\"/></a>"
      ]
    },
    {
      "cell_type": "markdown",
      "metadata": {
        "id": "iDcC0c9NiOHW",
        "colab_type": "text"
      },
      "source": [
        "<font color=\"blue\">To use this notebook on Colaboratory, you will need to make a copy of it. Go to File > Save a Copy in Drive. You can then use the new copy that will appear in the new tab.</font>\n"
      ]
    },
    {
      "cell_type": "markdown",
      "metadata": {
        "id": "wfzPGOPuiQgb",
        "colab_type": "text"
      },
      "source": [
        "# AfterWork Practice Notebook: Data Visualisation with Python"
      ]
    },
    {
      "cell_type": "markdown",
      "metadata": {
        "id": "gcfPZHcHrbff",
        "colab_type": "text"
      },
      "source": [
        "## Pre-requisites"
      ]
    },
    {
      "cell_type": "code",
      "metadata": {
        "id": "ssAFDolgrnaq",
        "colab_type": "code",
        "outputId": "d8092aa2-99ee-4967-f103-c364bc5b8a86",
        "colab": {
          "base_uri": "https://localhost:8080/",
          "height": 72
        }
      },
      "source": [
        "# We will first import the required libraries\n",
        "# --- \n",
        "\n",
        "# Importing pandas for data manipulation \n",
        "import pandas as pd\n",
        "\n",
        "# Importing numpy for scientific computations\n",
        "import numpy as np\n",
        "\n",
        "# Importing matplotlib and seaborn for visualisation \n",
        "import matplotlib.pyplot as plt\n",
        "import seaborn as sns\n",
        "% matplotlib inline"
      ],
      "execution_count": 0,
      "outputs": [
        {
          "output_type": "stream",
          "text": [
            "/usr/local/lib/python3.6/dist-packages/statsmodels/tools/_testing.py:19: FutureWarning: pandas.util.testing is deprecated. Use the functions in the public API at pandas.testing instead.\n",
            "  import pandas.util.testing as tm\n"
          ],
          "name": "stderr"
        }
      ]
    },
    {
      "cell_type": "markdown",
      "metadata": {
        "id": "vdagRztSiYqj",
        "colab_type": "text"
      },
      "source": [
        "## 1. Basic Visualisation Tools"
      ]
    },
    {
      "cell_type": "markdown",
      "metadata": {
        "id": "TUqxFso-muxF",
        "colab_type": "text"
      },
      "source": [
        "### <font color=\"blue\">Examples</font>"
      ]
    },
    {
      "cell_type": "code",
      "metadata": {
        "id": "zZ20knddh7R-",
        "colab_type": "code",
        "outputId": "ec6db619-c80d-4eca-9d40-9eb49fe481d5",
        "colab": {
          "base_uri": "https://localhost:8080/",
          "height": 197
        }
      },
      "source": [
        "# 1. Tables \n",
        "# ---\n",
        "# A table is an arrangement of data in rows and columns.\n",
        "# As we have done before, we can use pandas to create tables.\n",
        "# In this example, we will demonstrate how we can create tables.\n",
        "# ---\n",
        "# \n",
        "\n",
        "# Let's read the dataset we will use\n",
        "# ---\n",
        "#\n",
        "df = pd.read_csv(\"http://bit.ly/IrisDataset\") \n",
        "\n",
        "# We then select the records that we would like to use i.e. \n",
        "# in this case, the first five records with petal width \n",
        "# greater than 1.9 sorted in ascending order.\n",
        "# ---\n",
        "df = df[(df['petal_width'] > 1.9)].sort_values(by='sepal_length', ascending=1)\n",
        "df.head()"
      ],
      "execution_count": 0,
      "outputs": [
        {
          "output_type": "execute_result",
          "data": {
            "text/html": [
              "<div>\n",
              "<style scoped>\n",
              "    .dataframe tbody tr th:only-of-type {\n",
              "        vertical-align: middle;\n",
              "    }\n",
              "\n",
              "    .dataframe tbody tr th {\n",
              "        vertical-align: top;\n",
              "    }\n",
              "\n",
              "    .dataframe thead th {\n",
              "        text-align: right;\n",
              "    }\n",
              "</style>\n",
              "<table border=\"1\" class=\"dataframe\">\n",
              "  <thead>\n",
              "    <tr style=\"text-align: right;\">\n",
              "      <th></th>\n",
              "      <th>sepal_length</th>\n",
              "      <th>sepal_width</th>\n",
              "      <th>petal_length</th>\n",
              "      <th>petal_width</th>\n",
              "      <th>species</th>\n",
              "    </tr>\n",
              "  </thead>\n",
              "  <tbody>\n",
              "    <tr>\n",
              "      <th>121</th>\n",
              "      <td>5.6</td>\n",
              "      <td>2.8</td>\n",
              "      <td>4.9</td>\n",
              "      <td>2.0</td>\n",
              "      <td>Iris-virginica</td>\n",
              "    </tr>\n",
              "    <tr>\n",
              "      <th>113</th>\n",
              "      <td>5.7</td>\n",
              "      <td>2.5</td>\n",
              "      <td>5.0</td>\n",
              "      <td>2.0</td>\n",
              "      <td>Iris-virginica</td>\n",
              "    </tr>\n",
              "    <tr>\n",
              "      <th>114</th>\n",
              "      <td>5.8</td>\n",
              "      <td>2.8</td>\n",
              "      <td>5.1</td>\n",
              "      <td>2.4</td>\n",
              "      <td>Iris-virginica</td>\n",
              "    </tr>\n",
              "    <tr>\n",
              "      <th>148</th>\n",
              "      <td>6.2</td>\n",
              "      <td>3.4</td>\n",
              "      <td>5.4</td>\n",
              "      <td>2.3</td>\n",
              "      <td>Iris-virginica</td>\n",
              "    </tr>\n",
              "    <tr>\n",
              "      <th>136</th>\n",
              "      <td>6.3</td>\n",
              "      <td>3.4</td>\n",
              "      <td>5.6</td>\n",
              "      <td>2.4</td>\n",
              "      <td>Iris-virginica</td>\n",
              "    </tr>\n",
              "  </tbody>\n",
              "</table>\n",
              "</div>"
            ],
            "text/plain": [
              "     sepal_length  sepal_width  petal_length  petal_width         species\n",
              "121           5.6          2.8           4.9          2.0  Iris-virginica\n",
              "113           5.7          2.5           5.0          2.0  Iris-virginica\n",
              "114           5.8          2.8           5.1          2.4  Iris-virginica\n",
              "148           6.2          3.4           5.4          2.3  Iris-virginica\n",
              "136           6.3          3.4           5.6          2.4  Iris-virginica"
            ]
          },
          "metadata": {
            "tags": []
          },
          "execution_count": 5
        }
      ]
    },
    {
      "cell_type": "code",
      "metadata": {
        "id": "61Rp4W26O0FD",
        "colab_type": "code",
        "outputId": "4327c9fe-d366-4d99-c02d-1bcc95cdd397",
        "colab": {
          "base_uri": "https://localhost:8080/",
          "height": 551
        }
      },
      "source": [
        "# We can also highlight our records as shown below.\n",
        "# ---\n",
        "# We highlight the maximum and minimun values in our records.\n",
        "# We have an option of using colors by names or to be more \n",
        "# specific with the color we want, we can use hexcodes(https://htmlcolorcodes.com/) \n",
        "# \n",
        "df.style.highlight_max(color='lightgreen').highlight_min(color='#cd4f39')"
      ],
      "execution_count": 0,
      "outputs": [
        {
          "output_type": "execute_result",
          "data": {
            "text/html": [
              "<style  type=\"text/css\" >\n",
              "    #T_778db98e_95f9_11ea_913d_0242ac1c0002row0_col0 {\n",
              "            : ;\n",
              "            background-color:  #cd4f39;\n",
              "        }    #T_778db98e_95f9_11ea_913d_0242ac1c0002row0_col2 {\n",
              "            : ;\n",
              "            background-color:  #cd4f39;\n",
              "        }    #T_778db98e_95f9_11ea_913d_0242ac1c0002row0_col3 {\n",
              "            : ;\n",
              "            background-color:  #cd4f39;\n",
              "        }    #T_778db98e_95f9_11ea_913d_0242ac1c0002row1_col1 {\n",
              "            : ;\n",
              "            background-color:  #cd4f39;\n",
              "        }    #T_778db98e_95f9_11ea_913d_0242ac1c0002row1_col3 {\n",
              "            : ;\n",
              "            background-color:  #cd4f39;\n",
              "        }    #T_778db98e_95f9_11ea_913d_0242ac1c0002row5_col3 {\n",
              "            background-color:  lightgreen;\n",
              "            : ;\n",
              "        }    #T_778db98e_95f9_11ea_913d_0242ac1c0002row9_col3 {\n",
              "            : ;\n",
              "            background-color:  #cd4f39;\n",
              "        }    #T_778db98e_95f9_11ea_913d_0242ac1c0002row10_col3 {\n",
              "            : ;\n",
              "            background-color:  #cd4f39;\n",
              "        }    #T_778db98e_95f9_11ea_913d_0242ac1c0002row13_col3 {\n",
              "            background-color:  lightgreen;\n",
              "            : ;\n",
              "        }    #T_778db98e_95f9_11ea_913d_0242ac1c0002row22_col3 {\n",
              "            background-color:  lightgreen;\n",
              "            : ;\n",
              "        }    #T_778db98e_95f9_11ea_913d_0242ac1c0002row24_col3 {\n",
              "            : ;\n",
              "            background-color:  #cd4f39;\n",
              "        }    #T_778db98e_95f9_11ea_913d_0242ac1c0002row25_col2 {\n",
              "            background-color:  lightgreen;\n",
              "            : ;\n",
              "        }    #T_778db98e_95f9_11ea_913d_0242ac1c0002row26_col1 {\n",
              "            background-color:  lightgreen;\n",
              "            : ;\n",
              "        }    #T_778db98e_95f9_11ea_913d_0242ac1c0002row28_col0 {\n",
              "            background-color:  lightgreen;\n",
              "            : ;\n",
              "        }    #T_778db98e_95f9_11ea_913d_0242ac1c0002row28_col1 {\n",
              "            background-color:  lightgreen;\n",
              "            : ;\n",
              "        }    #T_778db98e_95f9_11ea_913d_0242ac1c0002row28_col3 {\n",
              "            : ;\n",
              "            background-color:  #cd4f39;\n",
              "        }</style><table id=\"T_778db98e_95f9_11ea_913d_0242ac1c0002\" ><thead>    <tr>        <th class=\"blank level0\" ></th>        <th class=\"col_heading level0 col0\" >sepal_length</th>        <th class=\"col_heading level0 col1\" >sepal_width</th>        <th class=\"col_heading level0 col2\" >petal_length</th>        <th class=\"col_heading level0 col3\" >petal_width</th>        <th class=\"col_heading level0 col4\" >species</th>    </tr></thead><tbody>\n",
              "                <tr>\n",
              "                        <th id=\"T_778db98e_95f9_11ea_913d_0242ac1c0002level0_row0\" class=\"row_heading level0 row0\" >121</th>\n",
              "                        <td id=\"T_778db98e_95f9_11ea_913d_0242ac1c0002row0_col0\" class=\"data row0 col0\" >5.600000</td>\n",
              "                        <td id=\"T_778db98e_95f9_11ea_913d_0242ac1c0002row0_col1\" class=\"data row0 col1\" >2.800000</td>\n",
              "                        <td id=\"T_778db98e_95f9_11ea_913d_0242ac1c0002row0_col2\" class=\"data row0 col2\" >4.900000</td>\n",
              "                        <td id=\"T_778db98e_95f9_11ea_913d_0242ac1c0002row0_col3\" class=\"data row0 col3\" >2.000000</td>\n",
              "                        <td id=\"T_778db98e_95f9_11ea_913d_0242ac1c0002row0_col4\" class=\"data row0 col4\" >Iris-virginica</td>\n",
              "            </tr>\n",
              "            <tr>\n",
              "                        <th id=\"T_778db98e_95f9_11ea_913d_0242ac1c0002level0_row1\" class=\"row_heading level0 row1\" >113</th>\n",
              "                        <td id=\"T_778db98e_95f9_11ea_913d_0242ac1c0002row1_col0\" class=\"data row1 col0\" >5.700000</td>\n",
              "                        <td id=\"T_778db98e_95f9_11ea_913d_0242ac1c0002row1_col1\" class=\"data row1 col1\" >2.500000</td>\n",
              "                        <td id=\"T_778db98e_95f9_11ea_913d_0242ac1c0002row1_col2\" class=\"data row1 col2\" >5.000000</td>\n",
              "                        <td id=\"T_778db98e_95f9_11ea_913d_0242ac1c0002row1_col3\" class=\"data row1 col3\" >2.000000</td>\n",
              "                        <td id=\"T_778db98e_95f9_11ea_913d_0242ac1c0002row1_col4\" class=\"data row1 col4\" >Iris-virginica</td>\n",
              "            </tr>\n",
              "            <tr>\n",
              "                        <th id=\"T_778db98e_95f9_11ea_913d_0242ac1c0002level0_row2\" class=\"row_heading level0 row2\" >114</th>\n",
              "                        <td id=\"T_778db98e_95f9_11ea_913d_0242ac1c0002row2_col0\" class=\"data row2 col0\" >5.800000</td>\n",
              "                        <td id=\"T_778db98e_95f9_11ea_913d_0242ac1c0002row2_col1\" class=\"data row2 col1\" >2.800000</td>\n",
              "                        <td id=\"T_778db98e_95f9_11ea_913d_0242ac1c0002row2_col2\" class=\"data row2 col2\" >5.100000</td>\n",
              "                        <td id=\"T_778db98e_95f9_11ea_913d_0242ac1c0002row2_col3\" class=\"data row2 col3\" >2.400000</td>\n",
              "                        <td id=\"T_778db98e_95f9_11ea_913d_0242ac1c0002row2_col4\" class=\"data row2 col4\" >Iris-virginica</td>\n",
              "            </tr>\n",
              "            <tr>\n",
              "                        <th id=\"T_778db98e_95f9_11ea_913d_0242ac1c0002level0_row3\" class=\"row_heading level0 row3\" >148</th>\n",
              "                        <td id=\"T_778db98e_95f9_11ea_913d_0242ac1c0002row3_col0\" class=\"data row3 col0\" >6.200000</td>\n",
              "                        <td id=\"T_778db98e_95f9_11ea_913d_0242ac1c0002row3_col1\" class=\"data row3 col1\" >3.400000</td>\n",
              "                        <td id=\"T_778db98e_95f9_11ea_913d_0242ac1c0002row3_col2\" class=\"data row3 col2\" >5.400000</td>\n",
              "                        <td id=\"T_778db98e_95f9_11ea_913d_0242ac1c0002row3_col3\" class=\"data row3 col3\" >2.300000</td>\n",
              "                        <td id=\"T_778db98e_95f9_11ea_913d_0242ac1c0002row3_col4\" class=\"data row3 col4\" >Iris-virginica</td>\n",
              "            </tr>\n",
              "            <tr>\n",
              "                        <th id=\"T_778db98e_95f9_11ea_913d_0242ac1c0002level0_row4\" class=\"row_heading level0 row4\" >136</th>\n",
              "                        <td id=\"T_778db98e_95f9_11ea_913d_0242ac1c0002row4_col0\" class=\"data row4 col0\" >6.300000</td>\n",
              "                        <td id=\"T_778db98e_95f9_11ea_913d_0242ac1c0002row4_col1\" class=\"data row4 col1\" >3.400000</td>\n",
              "                        <td id=\"T_778db98e_95f9_11ea_913d_0242ac1c0002row4_col2\" class=\"data row4 col2\" >5.600000</td>\n",
              "                        <td id=\"T_778db98e_95f9_11ea_913d_0242ac1c0002row4_col3\" class=\"data row4 col3\" >2.400000</td>\n",
              "                        <td id=\"T_778db98e_95f9_11ea_913d_0242ac1c0002row4_col4\" class=\"data row4 col4\" >Iris-virginica</td>\n",
              "            </tr>\n",
              "            <tr>\n",
              "                        <th id=\"T_778db98e_95f9_11ea_913d_0242ac1c0002level0_row5\" class=\"row_heading level0 row5\" >100</th>\n",
              "                        <td id=\"T_778db98e_95f9_11ea_913d_0242ac1c0002row5_col0\" class=\"data row5 col0\" >6.300000</td>\n",
              "                        <td id=\"T_778db98e_95f9_11ea_913d_0242ac1c0002row5_col1\" class=\"data row5 col1\" >3.300000</td>\n",
              "                        <td id=\"T_778db98e_95f9_11ea_913d_0242ac1c0002row5_col2\" class=\"data row5 col2\" >6.000000</td>\n",
              "                        <td id=\"T_778db98e_95f9_11ea_913d_0242ac1c0002row5_col3\" class=\"data row5 col3\" >2.500000</td>\n",
              "                        <td id=\"T_778db98e_95f9_11ea_913d_0242ac1c0002row5_col4\" class=\"data row5 col4\" >Iris-virginica</td>\n",
              "            </tr>\n",
              "            <tr>\n",
              "                        <th id=\"T_778db98e_95f9_11ea_913d_0242ac1c0002level0_row6\" class=\"row_heading level0 row6\" >132</th>\n",
              "                        <td id=\"T_778db98e_95f9_11ea_913d_0242ac1c0002row6_col0\" class=\"data row6 col0\" >6.400000</td>\n",
              "                        <td id=\"T_778db98e_95f9_11ea_913d_0242ac1c0002row6_col1\" class=\"data row6 col1\" >2.800000</td>\n",
              "                        <td id=\"T_778db98e_95f9_11ea_913d_0242ac1c0002row6_col2\" class=\"data row6 col2\" >5.600000</td>\n",
              "                        <td id=\"T_778db98e_95f9_11ea_913d_0242ac1c0002row6_col3\" class=\"data row6 col3\" >2.200000</td>\n",
              "                        <td id=\"T_778db98e_95f9_11ea_913d_0242ac1c0002row6_col4\" class=\"data row6 col4\" >Iris-virginica</td>\n",
              "            </tr>\n",
              "            <tr>\n",
              "                        <th id=\"T_778db98e_95f9_11ea_913d_0242ac1c0002level0_row7\" class=\"row_heading level0 row7\" >115</th>\n",
              "                        <td id=\"T_778db98e_95f9_11ea_913d_0242ac1c0002row7_col0\" class=\"data row7 col0\" >6.400000</td>\n",
              "                        <td id=\"T_778db98e_95f9_11ea_913d_0242ac1c0002row7_col1\" class=\"data row7 col1\" >3.200000</td>\n",
              "                        <td id=\"T_778db98e_95f9_11ea_913d_0242ac1c0002row7_col2\" class=\"data row7 col2\" >5.300000</td>\n",
              "                        <td id=\"T_778db98e_95f9_11ea_913d_0242ac1c0002row7_col3\" class=\"data row7 col3\" >2.300000</td>\n",
              "                        <td id=\"T_778db98e_95f9_11ea_913d_0242ac1c0002row7_col4\" class=\"data row7 col4\" >Iris-virginica</td>\n",
              "            </tr>\n",
              "            <tr>\n",
              "                        <th id=\"T_778db98e_95f9_11ea_913d_0242ac1c0002level0_row8\" class=\"row_heading level0 row8\" >128</th>\n",
              "                        <td id=\"T_778db98e_95f9_11ea_913d_0242ac1c0002row8_col0\" class=\"data row8 col0\" >6.400000</td>\n",
              "                        <td id=\"T_778db98e_95f9_11ea_913d_0242ac1c0002row8_col1\" class=\"data row8 col1\" >2.800000</td>\n",
              "                        <td id=\"T_778db98e_95f9_11ea_913d_0242ac1c0002row8_col2\" class=\"data row8 col2\" >5.600000</td>\n",
              "                        <td id=\"T_778db98e_95f9_11ea_913d_0242ac1c0002row8_col3\" class=\"data row8 col3\" >2.100000</td>\n",
              "                        <td id=\"T_778db98e_95f9_11ea_913d_0242ac1c0002row8_col4\" class=\"data row8 col4\" >Iris-virginica</td>\n",
              "            </tr>\n",
              "            <tr>\n",
              "                        <th id=\"T_778db98e_95f9_11ea_913d_0242ac1c0002level0_row9\" class=\"row_heading level0 row9\" >147</th>\n",
              "                        <td id=\"T_778db98e_95f9_11ea_913d_0242ac1c0002row9_col0\" class=\"data row9 col0\" >6.500000</td>\n",
              "                        <td id=\"T_778db98e_95f9_11ea_913d_0242ac1c0002row9_col1\" class=\"data row9 col1\" >3.000000</td>\n",
              "                        <td id=\"T_778db98e_95f9_11ea_913d_0242ac1c0002row9_col2\" class=\"data row9 col2\" >5.200000</td>\n",
              "                        <td id=\"T_778db98e_95f9_11ea_913d_0242ac1c0002row9_col3\" class=\"data row9 col3\" >2.000000</td>\n",
              "                        <td id=\"T_778db98e_95f9_11ea_913d_0242ac1c0002row9_col4\" class=\"data row9 col4\" >Iris-virginica</td>\n",
              "            </tr>\n",
              "            <tr>\n",
              "                        <th id=\"T_778db98e_95f9_11ea_913d_0242ac1c0002level0_row10\" class=\"row_heading level0 row10\" >110</th>\n",
              "                        <td id=\"T_778db98e_95f9_11ea_913d_0242ac1c0002row10_col0\" class=\"data row10 col0\" >6.500000</td>\n",
              "                        <td id=\"T_778db98e_95f9_11ea_913d_0242ac1c0002row10_col1\" class=\"data row10 col1\" >3.200000</td>\n",
              "                        <td id=\"T_778db98e_95f9_11ea_913d_0242ac1c0002row10_col2\" class=\"data row10 col2\" >5.100000</td>\n",
              "                        <td id=\"T_778db98e_95f9_11ea_913d_0242ac1c0002row10_col3\" class=\"data row10 col3\" >2.000000</td>\n",
              "                        <td id=\"T_778db98e_95f9_11ea_913d_0242ac1c0002row10_col4\" class=\"data row10 col4\" >Iris-virginica</td>\n",
              "            </tr>\n",
              "            <tr>\n",
              "                        <th id=\"T_778db98e_95f9_11ea_913d_0242ac1c0002level0_row11\" class=\"row_heading level0 row11\" >104</th>\n",
              "                        <td id=\"T_778db98e_95f9_11ea_913d_0242ac1c0002row11_col0\" class=\"data row11 col0\" >6.500000</td>\n",
              "                        <td id=\"T_778db98e_95f9_11ea_913d_0242ac1c0002row11_col1\" class=\"data row11 col1\" >3.000000</td>\n",
              "                        <td id=\"T_778db98e_95f9_11ea_913d_0242ac1c0002row11_col2\" class=\"data row11 col2\" >5.800000</td>\n",
              "                        <td id=\"T_778db98e_95f9_11ea_913d_0242ac1c0002row11_col3\" class=\"data row11 col3\" >2.200000</td>\n",
              "                        <td id=\"T_778db98e_95f9_11ea_913d_0242ac1c0002row11_col4\" class=\"data row11 col4\" >Iris-virginica</td>\n",
              "            </tr>\n",
              "            <tr>\n",
              "                        <th id=\"T_778db98e_95f9_11ea_913d_0242ac1c0002level0_row12\" class=\"row_heading level0 row12\" >145</th>\n",
              "                        <td id=\"T_778db98e_95f9_11ea_913d_0242ac1c0002row12_col0\" class=\"data row12 col0\" >6.700000</td>\n",
              "                        <td id=\"T_778db98e_95f9_11ea_913d_0242ac1c0002row12_col1\" class=\"data row12 col1\" >3.000000</td>\n",
              "                        <td id=\"T_778db98e_95f9_11ea_913d_0242ac1c0002row12_col2\" class=\"data row12 col2\" >5.200000</td>\n",
              "                        <td id=\"T_778db98e_95f9_11ea_913d_0242ac1c0002row12_col3\" class=\"data row12 col3\" >2.300000</td>\n",
              "                        <td id=\"T_778db98e_95f9_11ea_913d_0242ac1c0002row12_col4\" class=\"data row12 col4\" >Iris-virginica</td>\n",
              "            </tr>\n",
              "            <tr>\n",
              "                        <th id=\"T_778db98e_95f9_11ea_913d_0242ac1c0002level0_row13\" class=\"row_heading level0 row13\" >144</th>\n",
              "                        <td id=\"T_778db98e_95f9_11ea_913d_0242ac1c0002row13_col0\" class=\"data row13 col0\" >6.700000</td>\n",
              "                        <td id=\"T_778db98e_95f9_11ea_913d_0242ac1c0002row13_col1\" class=\"data row13 col1\" >3.300000</td>\n",
              "                        <td id=\"T_778db98e_95f9_11ea_913d_0242ac1c0002row13_col2\" class=\"data row13 col2\" >5.700000</td>\n",
              "                        <td id=\"T_778db98e_95f9_11ea_913d_0242ac1c0002row13_col3\" class=\"data row13 col3\" >2.500000</td>\n",
              "                        <td id=\"T_778db98e_95f9_11ea_913d_0242ac1c0002row13_col4\" class=\"data row13 col4\" >Iris-virginica</td>\n",
              "            </tr>\n",
              "            <tr>\n",
              "                        <th id=\"T_778db98e_95f9_11ea_913d_0242ac1c0002level0_row14\" class=\"row_heading level0 row14\" >140</th>\n",
              "                        <td id=\"T_778db98e_95f9_11ea_913d_0242ac1c0002row14_col0\" class=\"data row14 col0\" >6.700000</td>\n",
              "                        <td id=\"T_778db98e_95f9_11ea_913d_0242ac1c0002row14_col1\" class=\"data row14 col1\" >3.100000</td>\n",
              "                        <td id=\"T_778db98e_95f9_11ea_913d_0242ac1c0002row14_col2\" class=\"data row14 col2\" >5.600000</td>\n",
              "                        <td id=\"T_778db98e_95f9_11ea_913d_0242ac1c0002row14_col3\" class=\"data row14 col3\" >2.400000</td>\n",
              "                        <td id=\"T_778db98e_95f9_11ea_913d_0242ac1c0002row14_col4\" class=\"data row14 col4\" >Iris-virginica</td>\n",
              "            </tr>\n",
              "            <tr>\n",
              "                        <th id=\"T_778db98e_95f9_11ea_913d_0242ac1c0002level0_row15\" class=\"row_heading level0 row15\" >124</th>\n",
              "                        <td id=\"T_778db98e_95f9_11ea_913d_0242ac1c0002row15_col0\" class=\"data row15 col0\" >6.700000</td>\n",
              "                        <td id=\"T_778db98e_95f9_11ea_913d_0242ac1c0002row15_col1\" class=\"data row15 col1\" >3.300000</td>\n",
              "                        <td id=\"T_778db98e_95f9_11ea_913d_0242ac1c0002row15_col2\" class=\"data row15 col2\" >5.700000</td>\n",
              "                        <td id=\"T_778db98e_95f9_11ea_913d_0242ac1c0002row15_col3\" class=\"data row15 col3\" >2.100000</td>\n",
              "                        <td id=\"T_778db98e_95f9_11ea_913d_0242ac1c0002row15_col4\" class=\"data row15 col4\" >Iris-virginica</td>\n",
              "            </tr>\n",
              "            <tr>\n",
              "                        <th id=\"T_778db98e_95f9_11ea_913d_0242ac1c0002level0_row16\" class=\"row_heading level0 row16\" >143</th>\n",
              "                        <td id=\"T_778db98e_95f9_11ea_913d_0242ac1c0002row16_col0\" class=\"data row16 col0\" >6.800000</td>\n",
              "                        <td id=\"T_778db98e_95f9_11ea_913d_0242ac1c0002row16_col1\" class=\"data row16 col1\" >3.200000</td>\n",
              "                        <td id=\"T_778db98e_95f9_11ea_913d_0242ac1c0002row16_col2\" class=\"data row16 col2\" >5.900000</td>\n",
              "                        <td id=\"T_778db98e_95f9_11ea_913d_0242ac1c0002row16_col3\" class=\"data row16 col3\" >2.300000</td>\n",
              "                        <td id=\"T_778db98e_95f9_11ea_913d_0242ac1c0002row16_col4\" class=\"data row16 col4\" >Iris-virginica</td>\n",
              "            </tr>\n",
              "            <tr>\n",
              "                        <th id=\"T_778db98e_95f9_11ea_913d_0242ac1c0002level0_row17\" class=\"row_heading level0 row17\" >112</th>\n",
              "                        <td id=\"T_778db98e_95f9_11ea_913d_0242ac1c0002row17_col0\" class=\"data row17 col0\" >6.800000</td>\n",
              "                        <td id=\"T_778db98e_95f9_11ea_913d_0242ac1c0002row17_col1\" class=\"data row17 col1\" >3.000000</td>\n",
              "                        <td id=\"T_778db98e_95f9_11ea_913d_0242ac1c0002row17_col2\" class=\"data row17 col2\" >5.500000</td>\n",
              "                        <td id=\"T_778db98e_95f9_11ea_913d_0242ac1c0002row17_col3\" class=\"data row17 col3\" >2.100000</td>\n",
              "                        <td id=\"T_778db98e_95f9_11ea_913d_0242ac1c0002row17_col4\" class=\"data row17 col4\" >Iris-virginica</td>\n",
              "            </tr>\n",
              "            <tr>\n",
              "                        <th id=\"T_778db98e_95f9_11ea_913d_0242ac1c0002level0_row18\" class=\"row_heading level0 row18\" >139</th>\n",
              "                        <td id=\"T_778db98e_95f9_11ea_913d_0242ac1c0002row18_col0\" class=\"data row18 col0\" >6.900000</td>\n",
              "                        <td id=\"T_778db98e_95f9_11ea_913d_0242ac1c0002row18_col1\" class=\"data row18 col1\" >3.100000</td>\n",
              "                        <td id=\"T_778db98e_95f9_11ea_913d_0242ac1c0002row18_col2\" class=\"data row18 col2\" >5.400000</td>\n",
              "                        <td id=\"T_778db98e_95f9_11ea_913d_0242ac1c0002row18_col3\" class=\"data row18 col3\" >2.100000</td>\n",
              "                        <td id=\"T_778db98e_95f9_11ea_913d_0242ac1c0002row18_col4\" class=\"data row18 col4\" >Iris-virginica</td>\n",
              "            </tr>\n",
              "            <tr>\n",
              "                        <th id=\"T_778db98e_95f9_11ea_913d_0242ac1c0002level0_row19\" class=\"row_heading level0 row19\" >120</th>\n",
              "                        <td id=\"T_778db98e_95f9_11ea_913d_0242ac1c0002row19_col0\" class=\"data row19 col0\" >6.900000</td>\n",
              "                        <td id=\"T_778db98e_95f9_11ea_913d_0242ac1c0002row19_col1\" class=\"data row19 col1\" >3.200000</td>\n",
              "                        <td id=\"T_778db98e_95f9_11ea_913d_0242ac1c0002row19_col2\" class=\"data row19 col2\" >5.700000</td>\n",
              "                        <td id=\"T_778db98e_95f9_11ea_913d_0242ac1c0002row19_col3\" class=\"data row19 col3\" >2.300000</td>\n",
              "                        <td id=\"T_778db98e_95f9_11ea_913d_0242ac1c0002row19_col4\" class=\"data row19 col4\" >Iris-virginica</td>\n",
              "            </tr>\n",
              "            <tr>\n",
              "                        <th id=\"T_778db98e_95f9_11ea_913d_0242ac1c0002level0_row20\" class=\"row_heading level0 row20\" >141</th>\n",
              "                        <td id=\"T_778db98e_95f9_11ea_913d_0242ac1c0002row20_col0\" class=\"data row20 col0\" >6.900000</td>\n",
              "                        <td id=\"T_778db98e_95f9_11ea_913d_0242ac1c0002row20_col1\" class=\"data row20 col1\" >3.100000</td>\n",
              "                        <td id=\"T_778db98e_95f9_11ea_913d_0242ac1c0002row20_col2\" class=\"data row20 col2\" >5.100000</td>\n",
              "                        <td id=\"T_778db98e_95f9_11ea_913d_0242ac1c0002row20_col3\" class=\"data row20 col3\" >2.300000</td>\n",
              "                        <td id=\"T_778db98e_95f9_11ea_913d_0242ac1c0002row20_col4\" class=\"data row20 col4\" >Iris-virginica</td>\n",
              "            </tr>\n",
              "            <tr>\n",
              "                        <th id=\"T_778db98e_95f9_11ea_913d_0242ac1c0002level0_row21\" class=\"row_heading level0 row21\" >102</th>\n",
              "                        <td id=\"T_778db98e_95f9_11ea_913d_0242ac1c0002row21_col0\" class=\"data row21 col0\" >7.100000</td>\n",
              "                        <td id=\"T_778db98e_95f9_11ea_913d_0242ac1c0002row21_col1\" class=\"data row21 col1\" >3.000000</td>\n",
              "                        <td id=\"T_778db98e_95f9_11ea_913d_0242ac1c0002row21_col2\" class=\"data row21 col2\" >5.900000</td>\n",
              "                        <td id=\"T_778db98e_95f9_11ea_913d_0242ac1c0002row21_col3\" class=\"data row21 col3\" >2.100000</td>\n",
              "                        <td id=\"T_778db98e_95f9_11ea_913d_0242ac1c0002row21_col4\" class=\"data row21 col4\" >Iris-virginica</td>\n",
              "            </tr>\n",
              "            <tr>\n",
              "                        <th id=\"T_778db98e_95f9_11ea_913d_0242ac1c0002level0_row22\" class=\"row_heading level0 row22\" >109</th>\n",
              "                        <td id=\"T_778db98e_95f9_11ea_913d_0242ac1c0002row22_col0\" class=\"data row22 col0\" >7.200000</td>\n",
              "                        <td id=\"T_778db98e_95f9_11ea_913d_0242ac1c0002row22_col1\" class=\"data row22 col1\" >3.600000</td>\n",
              "                        <td id=\"T_778db98e_95f9_11ea_913d_0242ac1c0002row22_col2\" class=\"data row22 col2\" >6.100000</td>\n",
              "                        <td id=\"T_778db98e_95f9_11ea_913d_0242ac1c0002row22_col3\" class=\"data row22 col3\" >2.500000</td>\n",
              "                        <td id=\"T_778db98e_95f9_11ea_913d_0242ac1c0002row22_col4\" class=\"data row22 col4\" >Iris-virginica</td>\n",
              "            </tr>\n",
              "            <tr>\n",
              "                        <th id=\"T_778db98e_95f9_11ea_913d_0242ac1c0002level0_row23\" class=\"row_heading level0 row23\" >105</th>\n",
              "                        <td id=\"T_778db98e_95f9_11ea_913d_0242ac1c0002row23_col0\" class=\"data row23 col0\" >7.600000</td>\n",
              "                        <td id=\"T_778db98e_95f9_11ea_913d_0242ac1c0002row23_col1\" class=\"data row23 col1\" >3.000000</td>\n",
              "                        <td id=\"T_778db98e_95f9_11ea_913d_0242ac1c0002row23_col2\" class=\"data row23 col2\" >6.600000</td>\n",
              "                        <td id=\"T_778db98e_95f9_11ea_913d_0242ac1c0002row23_col3\" class=\"data row23 col3\" >2.100000</td>\n",
              "                        <td id=\"T_778db98e_95f9_11ea_913d_0242ac1c0002row23_col4\" class=\"data row23 col4\" >Iris-virginica</td>\n",
              "            </tr>\n",
              "            <tr>\n",
              "                        <th id=\"T_778db98e_95f9_11ea_913d_0242ac1c0002level0_row24\" class=\"row_heading level0 row24\" >122</th>\n",
              "                        <td id=\"T_778db98e_95f9_11ea_913d_0242ac1c0002row24_col0\" class=\"data row24 col0\" >7.700000</td>\n",
              "                        <td id=\"T_778db98e_95f9_11ea_913d_0242ac1c0002row24_col1\" class=\"data row24 col1\" >2.800000</td>\n",
              "                        <td id=\"T_778db98e_95f9_11ea_913d_0242ac1c0002row24_col2\" class=\"data row24 col2\" >6.700000</td>\n",
              "                        <td id=\"T_778db98e_95f9_11ea_913d_0242ac1c0002row24_col3\" class=\"data row24 col3\" >2.000000</td>\n",
              "                        <td id=\"T_778db98e_95f9_11ea_913d_0242ac1c0002row24_col4\" class=\"data row24 col4\" >Iris-virginica</td>\n",
              "            </tr>\n",
              "            <tr>\n",
              "                        <th id=\"T_778db98e_95f9_11ea_913d_0242ac1c0002level0_row25\" class=\"row_heading level0 row25\" >118</th>\n",
              "                        <td id=\"T_778db98e_95f9_11ea_913d_0242ac1c0002row25_col0\" class=\"data row25 col0\" >7.700000</td>\n",
              "                        <td id=\"T_778db98e_95f9_11ea_913d_0242ac1c0002row25_col1\" class=\"data row25 col1\" >2.600000</td>\n",
              "                        <td id=\"T_778db98e_95f9_11ea_913d_0242ac1c0002row25_col2\" class=\"data row25 col2\" >6.900000</td>\n",
              "                        <td id=\"T_778db98e_95f9_11ea_913d_0242ac1c0002row25_col3\" class=\"data row25 col3\" >2.300000</td>\n",
              "                        <td id=\"T_778db98e_95f9_11ea_913d_0242ac1c0002row25_col4\" class=\"data row25 col4\" >Iris-virginica</td>\n",
              "            </tr>\n",
              "            <tr>\n",
              "                        <th id=\"T_778db98e_95f9_11ea_913d_0242ac1c0002level0_row26\" class=\"row_heading level0 row26\" >117</th>\n",
              "                        <td id=\"T_778db98e_95f9_11ea_913d_0242ac1c0002row26_col0\" class=\"data row26 col0\" >7.700000</td>\n",
              "                        <td id=\"T_778db98e_95f9_11ea_913d_0242ac1c0002row26_col1\" class=\"data row26 col1\" >3.800000</td>\n",
              "                        <td id=\"T_778db98e_95f9_11ea_913d_0242ac1c0002row26_col2\" class=\"data row26 col2\" >6.700000</td>\n",
              "                        <td id=\"T_778db98e_95f9_11ea_913d_0242ac1c0002row26_col3\" class=\"data row26 col3\" >2.200000</td>\n",
              "                        <td id=\"T_778db98e_95f9_11ea_913d_0242ac1c0002row26_col4\" class=\"data row26 col4\" >Iris-virginica</td>\n",
              "            </tr>\n",
              "            <tr>\n",
              "                        <th id=\"T_778db98e_95f9_11ea_913d_0242ac1c0002level0_row27\" class=\"row_heading level0 row27\" >135</th>\n",
              "                        <td id=\"T_778db98e_95f9_11ea_913d_0242ac1c0002row27_col0\" class=\"data row27 col0\" >7.700000</td>\n",
              "                        <td id=\"T_778db98e_95f9_11ea_913d_0242ac1c0002row27_col1\" class=\"data row27 col1\" >3.000000</td>\n",
              "                        <td id=\"T_778db98e_95f9_11ea_913d_0242ac1c0002row27_col2\" class=\"data row27 col2\" >6.100000</td>\n",
              "                        <td id=\"T_778db98e_95f9_11ea_913d_0242ac1c0002row27_col3\" class=\"data row27 col3\" >2.300000</td>\n",
              "                        <td id=\"T_778db98e_95f9_11ea_913d_0242ac1c0002row27_col4\" class=\"data row27 col4\" >Iris-virginica</td>\n",
              "            </tr>\n",
              "            <tr>\n",
              "                        <th id=\"T_778db98e_95f9_11ea_913d_0242ac1c0002level0_row28\" class=\"row_heading level0 row28\" >131</th>\n",
              "                        <td id=\"T_778db98e_95f9_11ea_913d_0242ac1c0002row28_col0\" class=\"data row28 col0\" >7.900000</td>\n",
              "                        <td id=\"T_778db98e_95f9_11ea_913d_0242ac1c0002row28_col1\" class=\"data row28 col1\" >3.800000</td>\n",
              "                        <td id=\"T_778db98e_95f9_11ea_913d_0242ac1c0002row28_col2\" class=\"data row28 col2\" >6.400000</td>\n",
              "                        <td id=\"T_778db98e_95f9_11ea_913d_0242ac1c0002row28_col3\" class=\"data row28 col3\" >2.000000</td>\n",
              "                        <td id=\"T_778db98e_95f9_11ea_913d_0242ac1c0002row28_col4\" class=\"data row28 col4\" >Iris-virginica</td>\n",
              "            </tr>\n",
              "    </tbody></table>"
            ],
            "text/plain": [
              "<pandas.io.formats.style.Styler at 0x7f610acd76d8>"
            ]
          },
          "metadata": {
            "tags": []
          },
          "execution_count": 3
        }
      ]
    },
    {
      "cell_type": "code",
      "metadata": {
        "id": "KJJoOKoYPqfl",
        "colab_type": "code",
        "outputId": "b51c36f3-b29a-45aa-a053-e79e2bd25ea8",
        "colab": {
          "base_uri": "https://localhost:8080/",
          "height": 551
        }
      },
      "source": [
        "# We can also perform more styling such as applying background gradient,\n",
        "# hiding the index column as shown etc.\n",
        "# ---\n",
        "# \n",
        "df.style.highlight_max(color='lightgreen').highlight_min(color='#cd4f39').background_gradient(cmap='Blues').hide_index()\n",
        " \n",
        "# We can use the Pandas API Documentation for referencing when \n",
        "# we to style our pandas table in whatever way we would like. \n",
        "# Pandas API: https://pandas.pydata.org/pandas-docs/stable/user_guide/style.html "
      ],
      "execution_count": 0,
      "outputs": [
        {
          "output_type": "execute_result",
          "data": {
            "text/html": [
              "<style  type=\"text/css\" >\n",
              "    #T_3c155bc2_95fa_11ea_913d_0242ac1c0002row0_col0 {\n",
              "            : ;\n",
              "            background-color:  #cd4f39;\n",
              "            background-color:  #f7fbff;\n",
              "            color:  #000000;\n",
              "        }    #T_3c155bc2_95fa_11ea_913d_0242ac1c0002row0_col1 {\n",
              "            : ;\n",
              "            : ;\n",
              "            background-color:  #caddf0;\n",
              "            color:  #000000;\n",
              "        }    #T_3c155bc2_95fa_11ea_913d_0242ac1c0002row0_col2 {\n",
              "            : ;\n",
              "            background-color:  #cd4f39;\n",
              "            background-color:  #f7fbff;\n",
              "            color:  #000000;\n",
              "        }    #T_3c155bc2_95fa_11ea_913d_0242ac1c0002row0_col3 {\n",
              "            : ;\n",
              "            background-color:  #cd4f39;\n",
              "            background-color:  #f7fbff;\n",
              "            color:  #000000;\n",
              "        }    #T_3c155bc2_95fa_11ea_913d_0242ac1c0002row1_col0 {\n",
              "            : ;\n",
              "            : ;\n",
              "            background-color:  #eef5fc;\n",
              "            color:  #000000;\n",
              "        }    #T_3c155bc2_95fa_11ea_913d_0242ac1c0002row1_col1 {\n",
              "            : ;\n",
              "            background-color:  #cd4f39;\n",
              "            background-color:  #f7fbff;\n",
              "            color:  #000000;\n",
              "        }    #T_3c155bc2_95fa_11ea_913d_0242ac1c0002row1_col2 {\n",
              "            : ;\n",
              "            : ;\n",
              "            background-color:  #eef5fc;\n",
              "            color:  #000000;\n",
              "        }    #T_3c155bc2_95fa_11ea_913d_0242ac1c0002row1_col3 {\n",
              "            : ;\n",
              "            background-color:  #cd4f39;\n",
              "            background-color:  #f7fbff;\n",
              "            color:  #000000;\n",
              "        }    #T_3c155bc2_95fa_11ea_913d_0242ac1c0002row2_col0 {\n",
              "            : ;\n",
              "            : ;\n",
              "            background-color:  #e6f0f9;\n",
              "            color:  #000000;\n",
              "        }    #T_3c155bc2_95fa_11ea_913d_0242ac1c0002row2_col1 {\n",
              "            : ;\n",
              "            : ;\n",
              "            background-color:  #caddf0;\n",
              "            color:  #000000;\n",
              "        }    #T_3c155bc2_95fa_11ea_913d_0242ac1c0002row2_col2 {\n",
              "            : ;\n",
              "            : ;\n",
              "            background-color:  #e3eef9;\n",
              "            color:  #000000;\n",
              "        }    #T_3c155bc2_95fa_11ea_913d_0242ac1c0002row2_col3 {\n",
              "            : ;\n",
              "            : ;\n",
              "            background-color:  #1764ab;\n",
              "            color:  #f1f1f1;\n",
              "        }    #T_3c155bc2_95fa_11ea_913d_0242ac1c0002row3_col0 {\n",
              "            : ;\n",
              "            : ;\n",
              "            background-color:  #c3daee;\n",
              "            color:  #000000;\n",
              "        }    #T_3c155bc2_95fa_11ea_913d_0242ac1c0002row3_col1 {\n",
              "            : ;\n",
              "            : ;\n",
              "            background-color:  #3080bd;\n",
              "            color:  #000000;\n",
              "        }    #T_3c155bc2_95fa_11ea_913d_0242ac1c0002row3_col2 {\n",
              "            : ;\n",
              "            : ;\n",
              "            background-color:  #c6dbef;\n",
              "            color:  #000000;\n",
              "        }    #T_3c155bc2_95fa_11ea_913d_0242ac1c0002row3_col3 {\n",
              "            : ;\n",
              "            : ;\n",
              "            background-color:  #4a98c9;\n",
              "            color:  #000000;\n",
              "        }    #T_3c155bc2_95fa_11ea_913d_0242ac1c0002row4_col0 {\n",
              "            : ;\n",
              "            : ;\n",
              "            background-color:  #b5d4e9;\n",
              "            color:  #000000;\n",
              "        }    #T_3c155bc2_95fa_11ea_913d_0242ac1c0002row4_col1 {\n",
              "            : ;\n",
              "            : ;\n",
              "            background-color:  #3080bd;\n",
              "            color:  #000000;\n",
              "        }    #T_3c155bc2_95fa_11ea_913d_0242ac1c0002row4_col2 {\n",
              "            : ;\n",
              "            : ;\n",
              "            background-color:  #a6cee4;\n",
              "            color:  #000000;\n",
              "        }    #T_3c155bc2_95fa_11ea_913d_0242ac1c0002row4_col3 {\n",
              "            : ;\n",
              "            : ;\n",
              "            background-color:  #1764ab;\n",
              "            color:  #f1f1f1;\n",
              "        }    #T_3c155bc2_95fa_11ea_913d_0242ac1c0002row5_col0 {\n",
              "            : ;\n",
              "            : ;\n",
              "            background-color:  #b5d4e9;\n",
              "            color:  #000000;\n",
              "        }    #T_3c155bc2_95fa_11ea_913d_0242ac1c0002row5_col1 {\n",
              "            : ;\n",
              "            : ;\n",
              "            background-color:  #4594c7;\n",
              "            color:  #000000;\n",
              "        }    #T_3c155bc2_95fa_11ea_913d_0242ac1c0002row5_col2 {\n",
              "            : ;\n",
              "            : ;\n",
              "            background-color:  #5ba3d0;\n",
              "            color:  #000000;\n",
              "        }    #T_3c155bc2_95fa_11ea_913d_0242ac1c0002row5_col3 {\n",
              "            background-color:  lightgreen;\n",
              "            : ;\n",
              "            background-color:  #08306b;\n",
              "            color:  #f1f1f1;\n",
              "        }    #T_3c155bc2_95fa_11ea_913d_0242ac1c0002row6_col0 {\n",
              "            : ;\n",
              "            : ;\n",
              "            background-color:  #a6cee4;\n",
              "            color:  #000000;\n",
              "        }    #T_3c155bc2_95fa_11ea_913d_0242ac1c0002row6_col1 {\n",
              "            : ;\n",
              "            : ;\n",
              "            background-color:  #caddf0;\n",
              "            color:  #000000;\n",
              "        }    #T_3c155bc2_95fa_11ea_913d_0242ac1c0002row6_col2 {\n",
              "            : ;\n",
              "            : ;\n",
              "            background-color:  #a6cee4;\n",
              "            color:  #000000;\n",
              "        }    #T_3c155bc2_95fa_11ea_913d_0242ac1c0002row6_col3 {\n",
              "            : ;\n",
              "            : ;\n",
              "            background-color:  #94c4df;\n",
              "            color:  #000000;\n",
              "        }    #T_3c155bc2_95fa_11ea_913d_0242ac1c0002row7_col0 {\n",
              "            : ;\n",
              "            : ;\n",
              "            background-color:  #a6cee4;\n",
              "            color:  #000000;\n",
              "        }    #T_3c155bc2_95fa_11ea_913d_0242ac1c0002row7_col1 {\n",
              "            : ;\n",
              "            : ;\n",
              "            background-color:  #5fa6d1;\n",
              "            color:  #000000;\n",
              "        }    #T_3c155bc2_95fa_11ea_913d_0242ac1c0002row7_col2 {\n",
              "            : ;\n",
              "            : ;\n",
              "            background-color:  #d0e1f2;\n",
              "            color:  #000000;\n",
              "        }    #T_3c155bc2_95fa_11ea_913d_0242ac1c0002row7_col3 {\n",
              "            : ;\n",
              "            : ;\n",
              "            background-color:  #4a98c9;\n",
              "            color:  #000000;\n",
              "        }    #T_3c155bc2_95fa_11ea_913d_0242ac1c0002row8_col0 {\n",
              "            : ;\n",
              "            : ;\n",
              "            background-color:  #a6cee4;\n",
              "            color:  #000000;\n",
              "        }    #T_3c155bc2_95fa_11ea_913d_0242ac1c0002row8_col1 {\n",
              "            : ;\n",
              "            : ;\n",
              "            background-color:  #caddf0;\n",
              "            color:  #000000;\n",
              "        }    #T_3c155bc2_95fa_11ea_913d_0242ac1c0002row8_col2 {\n",
              "            : ;\n",
              "            : ;\n",
              "            background-color:  #a6cee4;\n",
              "            color:  #000000;\n",
              "        }    #T_3c155bc2_95fa_11ea_913d_0242ac1c0002row8_col3 {\n",
              "            : ;\n",
              "            : ;\n",
              "            background-color:  #d0e1f2;\n",
              "            color:  #000000;\n",
              "        }    #T_3c155bc2_95fa_11ea_913d_0242ac1c0002row9_col0 {\n",
              "            : ;\n",
              "            : ;\n",
              "            background-color:  #97c6df;\n",
              "            color:  #000000;\n",
              "        }    #T_3c155bc2_95fa_11ea_913d_0242ac1c0002row9_col1 {\n",
              "            : ;\n",
              "            : ;\n",
              "            background-color:  #9ac8e0;\n",
              "            color:  #000000;\n",
              "        }    #T_3c155bc2_95fa_11ea_913d_0242ac1c0002row9_col2 {\n",
              "            : ;\n",
              "            : ;\n",
              "            background-color:  #d9e8f5;\n",
              "            color:  #000000;\n",
              "        }    #T_3c155bc2_95fa_11ea_913d_0242ac1c0002row9_col3 {\n",
              "            : ;\n",
              "            background-color:  #cd4f39;\n",
              "            background-color:  #f7fbff;\n",
              "            color:  #000000;\n",
              "        }    #T_3c155bc2_95fa_11ea_913d_0242ac1c0002row10_col0 {\n",
              "            : ;\n",
              "            : ;\n",
              "            background-color:  #97c6df;\n",
              "            color:  #000000;\n",
              "        }    #T_3c155bc2_95fa_11ea_913d_0242ac1c0002row10_col1 {\n",
              "            : ;\n",
              "            : ;\n",
              "            background-color:  #5fa6d1;\n",
              "            color:  #000000;\n",
              "        }    #T_3c155bc2_95fa_11ea_913d_0242ac1c0002row10_col2 {\n",
              "            : ;\n",
              "            : ;\n",
              "            background-color:  #e3eef9;\n",
              "            color:  #000000;\n",
              "        }    #T_3c155bc2_95fa_11ea_913d_0242ac1c0002row10_col3 {\n",
              "            : ;\n",
              "            background-color:  #cd4f39;\n",
              "            background-color:  #f7fbff;\n",
              "            color:  #000000;\n",
              "        }    #T_3c155bc2_95fa_11ea_913d_0242ac1c0002row11_col0 {\n",
              "            : ;\n",
              "            : ;\n",
              "            background-color:  #97c6df;\n",
              "            color:  #000000;\n",
              "        }    #T_3c155bc2_95fa_11ea_913d_0242ac1c0002row11_col1 {\n",
              "            : ;\n",
              "            : ;\n",
              "            background-color:  #9ac8e0;\n",
              "            color:  #000000;\n",
              "        }    #T_3c155bc2_95fa_11ea_913d_0242ac1c0002row11_col2 {\n",
              "            : ;\n",
              "            : ;\n",
              "            background-color:  #7fb9da;\n",
              "            color:  #000000;\n",
              "        }    #T_3c155bc2_95fa_11ea_913d_0242ac1c0002row11_col3 {\n",
              "            : ;\n",
              "            : ;\n",
              "            background-color:  #94c4df;\n",
              "            color:  #000000;\n",
              "        }    #T_3c155bc2_95fa_11ea_913d_0242ac1c0002row12_col0 {\n",
              "            : ;\n",
              "            : ;\n",
              "            background-color:  #74b3d8;\n",
              "            color:  #000000;\n",
              "        }    #T_3c155bc2_95fa_11ea_913d_0242ac1c0002row12_col1 {\n",
              "            : ;\n",
              "            : ;\n",
              "            background-color:  #9ac8e0;\n",
              "            color:  #000000;\n",
              "        }    #T_3c155bc2_95fa_11ea_913d_0242ac1c0002row12_col2 {\n",
              "            : ;\n",
              "            : ;\n",
              "            background-color:  #d9e8f5;\n",
              "            color:  #000000;\n",
              "        }    #T_3c155bc2_95fa_11ea_913d_0242ac1c0002row12_col3 {\n",
              "            : ;\n",
              "            : ;\n",
              "            background-color:  #4a98c9;\n",
              "            color:  #000000;\n",
              "        }    #T_3c155bc2_95fa_11ea_913d_0242ac1c0002row13_col0 {\n",
              "            : ;\n",
              "            : ;\n",
              "            background-color:  #74b3d8;\n",
              "            color:  #000000;\n",
              "        }    #T_3c155bc2_95fa_11ea_913d_0242ac1c0002row13_col1 {\n",
              "            : ;\n",
              "            : ;\n",
              "            background-color:  #4594c7;\n",
              "            color:  #000000;\n",
              "        }    #T_3c155bc2_95fa_11ea_913d_0242ac1c0002row13_col2 {\n",
              "            : ;\n",
              "            : ;\n",
              "            background-color:  #94c4df;\n",
              "            color:  #000000;\n",
              "        }    #T_3c155bc2_95fa_11ea_913d_0242ac1c0002row13_col3 {\n",
              "            background-color:  lightgreen;\n",
              "            : ;\n",
              "            background-color:  #08306b;\n",
              "            color:  #f1f1f1;\n",
              "        }    #T_3c155bc2_95fa_11ea_913d_0242ac1c0002row14_col0 {\n",
              "            : ;\n",
              "            : ;\n",
              "            background-color:  #74b3d8;\n",
              "            color:  #000000;\n",
              "        }    #T_3c155bc2_95fa_11ea_913d_0242ac1c0002row14_col1 {\n",
              "            : ;\n",
              "            : ;\n",
              "            background-color:  #7ab6d9;\n",
              "            color:  #000000;\n",
              "        }    #T_3c155bc2_95fa_11ea_913d_0242ac1c0002row14_col2 {\n",
              "            : ;\n",
              "            : ;\n",
              "            background-color:  #a6cee4;\n",
              "            color:  #000000;\n",
              "        }    #T_3c155bc2_95fa_11ea_913d_0242ac1c0002row14_col3 {\n",
              "            : ;\n",
              "            : ;\n",
              "            background-color:  #1764ab;\n",
              "            color:  #f1f1f1;\n",
              "        }    #T_3c155bc2_95fa_11ea_913d_0242ac1c0002row15_col0 {\n",
              "            : ;\n",
              "            : ;\n",
              "            background-color:  #74b3d8;\n",
              "            color:  #000000;\n",
              "        }    #T_3c155bc2_95fa_11ea_913d_0242ac1c0002row15_col1 {\n",
              "            : ;\n",
              "            : ;\n",
              "            background-color:  #4594c7;\n",
              "            color:  #000000;\n",
              "        }    #T_3c155bc2_95fa_11ea_913d_0242ac1c0002row15_col2 {\n",
              "            : ;\n",
              "            : ;\n",
              "            background-color:  #94c4df;\n",
              "            color:  #000000;\n",
              "        }    #T_3c155bc2_95fa_11ea_913d_0242ac1c0002row15_col3 {\n",
              "            : ;\n",
              "            : ;\n",
              "            background-color:  #d0e1f2;\n",
              "            color:  #000000;\n",
              "        }    #T_3c155bc2_95fa_11ea_913d_0242ac1c0002row16_col0 {\n",
              "            : ;\n",
              "            : ;\n",
              "            background-color:  #64a9d3;\n",
              "            color:  #000000;\n",
              "        }    #T_3c155bc2_95fa_11ea_913d_0242ac1c0002row16_col1 {\n",
              "            : ;\n",
              "            : ;\n",
              "            background-color:  #5fa6d1;\n",
              "            color:  #000000;\n",
              "        }    #T_3c155bc2_95fa_11ea_913d_0242ac1c0002row16_col2 {\n",
              "            : ;\n",
              "            : ;\n",
              "            background-color:  #6aaed6;\n",
              "            color:  #000000;\n",
              "        }    #T_3c155bc2_95fa_11ea_913d_0242ac1c0002row16_col3 {\n",
              "            : ;\n",
              "            : ;\n",
              "            background-color:  #4a98c9;\n",
              "            color:  #000000;\n",
              "        }    #T_3c155bc2_95fa_11ea_913d_0242ac1c0002row17_col0 {\n",
              "            : ;\n",
              "            : ;\n",
              "            background-color:  #64a9d3;\n",
              "            color:  #000000;\n",
              "        }    #T_3c155bc2_95fa_11ea_913d_0242ac1c0002row17_col1 {\n",
              "            : ;\n",
              "            : ;\n",
              "            background-color:  #9ac8e0;\n",
              "            color:  #000000;\n",
              "        }    #T_3c155bc2_95fa_11ea_913d_0242ac1c0002row17_col2 {\n",
              "            : ;\n",
              "            : ;\n",
              "            background-color:  #b7d4ea;\n",
              "            color:  #000000;\n",
              "        }    #T_3c155bc2_95fa_11ea_913d_0242ac1c0002row17_col3 {\n",
              "            : ;\n",
              "            : ;\n",
              "            background-color:  #d0e1f2;\n",
              "            color:  #000000;\n",
              "        }    #T_3c155bc2_95fa_11ea_913d_0242ac1c0002row18_col0 {\n",
              "            : ;\n",
              "            : ;\n",
              "            background-color:  #56a0ce;\n",
              "            color:  #000000;\n",
              "        }    #T_3c155bc2_95fa_11ea_913d_0242ac1c0002row18_col1 {\n",
              "            : ;\n",
              "            : ;\n",
              "            background-color:  #7ab6d9;\n",
              "            color:  #000000;\n",
              "        }    #T_3c155bc2_95fa_11ea_913d_0242ac1c0002row18_col2 {\n",
              "            : ;\n",
              "            : ;\n",
              "            background-color:  #c6dbef;\n",
              "            color:  #000000;\n",
              "        }    #T_3c155bc2_95fa_11ea_913d_0242ac1c0002row18_col3 {\n",
              "            : ;\n",
              "            : ;\n",
              "            background-color:  #d0e1f2;\n",
              "            color:  #000000;\n",
              "        }    #T_3c155bc2_95fa_11ea_913d_0242ac1c0002row19_col0 {\n",
              "            : ;\n",
              "            : ;\n",
              "            background-color:  #56a0ce;\n",
              "            color:  #000000;\n",
              "        }    #T_3c155bc2_95fa_11ea_913d_0242ac1c0002row19_col1 {\n",
              "            : ;\n",
              "            : ;\n",
              "            background-color:  #5fa6d1;\n",
              "            color:  #000000;\n",
              "        }    #T_3c155bc2_95fa_11ea_913d_0242ac1c0002row19_col2 {\n",
              "            : ;\n",
              "            : ;\n",
              "            background-color:  #94c4df;\n",
              "            color:  #000000;\n",
              "        }    #T_3c155bc2_95fa_11ea_913d_0242ac1c0002row19_col3 {\n",
              "            : ;\n",
              "            : ;\n",
              "            background-color:  #4a98c9;\n",
              "            color:  #000000;\n",
              "        }    #T_3c155bc2_95fa_11ea_913d_0242ac1c0002row20_col0 {\n",
              "            : ;\n",
              "            : ;\n",
              "            background-color:  #56a0ce;\n",
              "            color:  #000000;\n",
              "        }    #T_3c155bc2_95fa_11ea_913d_0242ac1c0002row20_col1 {\n",
              "            : ;\n",
              "            : ;\n",
              "            background-color:  #7ab6d9;\n",
              "            color:  #000000;\n",
              "        }    #T_3c155bc2_95fa_11ea_913d_0242ac1c0002row20_col2 {\n",
              "            : ;\n",
              "            : ;\n",
              "            background-color:  #e3eef9;\n",
              "            color:  #000000;\n",
              "        }    #T_3c155bc2_95fa_11ea_913d_0242ac1c0002row20_col3 {\n",
              "            : ;\n",
              "            : ;\n",
              "            background-color:  #4a98c9;\n",
              "            color:  #000000;\n",
              "        }    #T_3c155bc2_95fa_11ea_913d_0242ac1c0002row21_col0 {\n",
              "            : ;\n",
              "            : ;\n",
              "            background-color:  #3b8bc2;\n",
              "            color:  #000000;\n",
              "        }    #T_3c155bc2_95fa_11ea_913d_0242ac1c0002row21_col1 {\n",
              "            : ;\n",
              "            : ;\n",
              "            background-color:  #9ac8e0;\n",
              "            color:  #000000;\n",
              "        }    #T_3c155bc2_95fa_11ea_913d_0242ac1c0002row21_col2 {\n",
              "            : ;\n",
              "            : ;\n",
              "            background-color:  #6aaed6;\n",
              "            color:  #000000;\n",
              "        }    #T_3c155bc2_95fa_11ea_913d_0242ac1c0002row21_col3 {\n",
              "            : ;\n",
              "            : ;\n",
              "            background-color:  #d0e1f2;\n",
              "            color:  #000000;\n",
              "        }    #T_3c155bc2_95fa_11ea_913d_0242ac1c0002row22_col0 {\n",
              "            : ;\n",
              "            : ;\n",
              "            background-color:  #2f7fbc;\n",
              "            color:  #000000;\n",
              "        }    #T_3c155bc2_95fa_11ea_913d_0242ac1c0002row22_col1 {\n",
              "            : ;\n",
              "            : ;\n",
              "            background-color:  #0e58a2;\n",
              "            color:  #f1f1f1;\n",
              "        }    #T_3c155bc2_95fa_11ea_913d_0242ac1c0002row22_col2 {\n",
              "            : ;\n",
              "            : ;\n",
              "            background-color:  #4a98c9;\n",
              "            color:  #000000;\n",
              "        }    #T_3c155bc2_95fa_11ea_913d_0242ac1c0002row22_col3 {\n",
              "            background-color:  lightgreen;\n",
              "            : ;\n",
              "            background-color:  #08306b;\n",
              "            color:  #f1f1f1;\n",
              "        }    #T_3c155bc2_95fa_11ea_913d_0242ac1c0002row23_col0 {\n",
              "            : ;\n",
              "            : ;\n",
              "            background-color:  #09529d;\n",
              "            color:  #f1f1f1;\n",
              "        }    #T_3c155bc2_95fa_11ea_913d_0242ac1c0002row23_col1 {\n",
              "            : ;\n",
              "            : ;\n",
              "            background-color:  #9ac8e0;\n",
              "            color:  #000000;\n",
              "        }    #T_3c155bc2_95fa_11ea_913d_0242ac1c0002row23_col2 {\n",
              "            : ;\n",
              "            : ;\n",
              "            background-color:  #0d57a1;\n",
              "            color:  #f1f1f1;\n",
              "        }    #T_3c155bc2_95fa_11ea_913d_0242ac1c0002row23_col3 {\n",
              "            : ;\n",
              "            : ;\n",
              "            background-color:  #d0e1f2;\n",
              "            color:  #000000;\n",
              "        }    #T_3c155bc2_95fa_11ea_913d_0242ac1c0002row24_col0 {\n",
              "            : ;\n",
              "            : ;\n",
              "            background-color:  #08478d;\n",
              "            color:  #f1f1f1;\n",
              "        }    #T_3c155bc2_95fa_11ea_913d_0242ac1c0002row24_col1 {\n",
              "            : ;\n",
              "            : ;\n",
              "            background-color:  #caddf0;\n",
              "            color:  #000000;\n",
              "        }    #T_3c155bc2_95fa_11ea_913d_0242ac1c0002row24_col2 {\n",
              "            : ;\n",
              "            : ;\n",
              "            background-color:  #084a91;\n",
              "            color:  #f1f1f1;\n",
              "        }    #T_3c155bc2_95fa_11ea_913d_0242ac1c0002row24_col3 {\n",
              "            : ;\n",
              "            background-color:  #cd4f39;\n",
              "            background-color:  #f7fbff;\n",
              "            color:  #000000;\n",
              "        }    #T_3c155bc2_95fa_11ea_913d_0242ac1c0002row25_col0 {\n",
              "            : ;\n",
              "            : ;\n",
              "            background-color:  #08478d;\n",
              "            color:  #f1f1f1;\n",
              "        }    #T_3c155bc2_95fa_11ea_913d_0242ac1c0002row25_col1 {\n",
              "            : ;\n",
              "            : ;\n",
              "            background-color:  #e8f1fa;\n",
              "            color:  #000000;\n",
              "        }    #T_3c155bc2_95fa_11ea_913d_0242ac1c0002row25_col2 {\n",
              "            background-color:  lightgreen;\n",
              "            : ;\n",
              "            background-color:  #08306b;\n",
              "            color:  #f1f1f1;\n",
              "        }    #T_3c155bc2_95fa_11ea_913d_0242ac1c0002row25_col3 {\n",
              "            : ;\n",
              "            : ;\n",
              "            background-color:  #4a98c9;\n",
              "            color:  #000000;\n",
              "        }    #T_3c155bc2_95fa_11ea_913d_0242ac1c0002row26_col0 {\n",
              "            : ;\n",
              "            : ;\n",
              "            background-color:  #08478d;\n",
              "            color:  #f1f1f1;\n",
              "        }    #T_3c155bc2_95fa_11ea_913d_0242ac1c0002row26_col1 {\n",
              "            background-color:  lightgreen;\n",
              "            : ;\n",
              "            background-color:  #08306b;\n",
              "            color:  #f1f1f1;\n",
              "        }    #T_3c155bc2_95fa_11ea_913d_0242ac1c0002row26_col2 {\n",
              "            : ;\n",
              "            : ;\n",
              "            background-color:  #084a91;\n",
              "            color:  #f1f1f1;\n",
              "        }    #T_3c155bc2_95fa_11ea_913d_0242ac1c0002row26_col3 {\n",
              "            : ;\n",
              "            : ;\n",
              "            background-color:  #94c4df;\n",
              "            color:  #000000;\n",
              "        }    #T_3c155bc2_95fa_11ea_913d_0242ac1c0002row27_col0 {\n",
              "            : ;\n",
              "            : ;\n",
              "            background-color:  #08478d;\n",
              "            color:  #f1f1f1;\n",
              "        }    #T_3c155bc2_95fa_11ea_913d_0242ac1c0002row27_col1 {\n",
              "            : ;\n",
              "            : ;\n",
              "            background-color:  #9ac8e0;\n",
              "            color:  #000000;\n",
              "        }    #T_3c155bc2_95fa_11ea_913d_0242ac1c0002row27_col2 {\n",
              "            : ;\n",
              "            : ;\n",
              "            background-color:  #4a98c9;\n",
              "            color:  #000000;\n",
              "        }    #T_3c155bc2_95fa_11ea_913d_0242ac1c0002row27_col3 {\n",
              "            : ;\n",
              "            : ;\n",
              "            background-color:  #4a98c9;\n",
              "            color:  #000000;\n",
              "        }    #T_3c155bc2_95fa_11ea_913d_0242ac1c0002row28_col0 {\n",
              "            background-color:  lightgreen;\n",
              "            : ;\n",
              "            background-color:  #08306b;\n",
              "            color:  #f1f1f1;\n",
              "        }    #T_3c155bc2_95fa_11ea_913d_0242ac1c0002row28_col1 {\n",
              "            background-color:  lightgreen;\n",
              "            : ;\n",
              "            background-color:  #08306b;\n",
              "            color:  #f1f1f1;\n",
              "        }    #T_3c155bc2_95fa_11ea_913d_0242ac1c0002row28_col2 {\n",
              "            : ;\n",
              "            : ;\n",
              "            background-color:  #2070b4;\n",
              "            color:  #f1f1f1;\n",
              "        }    #T_3c155bc2_95fa_11ea_913d_0242ac1c0002row28_col3 {\n",
              "            : ;\n",
              "            background-color:  #cd4f39;\n",
              "            background-color:  #f7fbff;\n",
              "            color:  #000000;\n",
              "        }</style><table id=\"T_3c155bc2_95fa_11ea_913d_0242ac1c0002\" ><thead>    <tr>        <th class=\"col_heading level0 col0\" >sepal_length</th>        <th class=\"col_heading level0 col1\" >sepal_width</th>        <th class=\"col_heading level0 col2\" >petal_length</th>        <th class=\"col_heading level0 col3\" >petal_width</th>        <th class=\"col_heading level0 col4\" >species</th>    </tr></thead><tbody>\n",
              "                <tr>\n",
              "                                <td id=\"T_3c155bc2_95fa_11ea_913d_0242ac1c0002row0_col0\" class=\"data row0 col0\" >5.600000</td>\n",
              "                        <td id=\"T_3c155bc2_95fa_11ea_913d_0242ac1c0002row0_col1\" class=\"data row0 col1\" >2.800000</td>\n",
              "                        <td id=\"T_3c155bc2_95fa_11ea_913d_0242ac1c0002row0_col2\" class=\"data row0 col2\" >4.900000</td>\n",
              "                        <td id=\"T_3c155bc2_95fa_11ea_913d_0242ac1c0002row0_col3\" class=\"data row0 col3\" >2.000000</td>\n",
              "                        <td id=\"T_3c155bc2_95fa_11ea_913d_0242ac1c0002row0_col4\" class=\"data row0 col4\" >Iris-virginica</td>\n",
              "            </tr>\n",
              "            <tr>\n",
              "                                <td id=\"T_3c155bc2_95fa_11ea_913d_0242ac1c0002row1_col0\" class=\"data row1 col0\" >5.700000</td>\n",
              "                        <td id=\"T_3c155bc2_95fa_11ea_913d_0242ac1c0002row1_col1\" class=\"data row1 col1\" >2.500000</td>\n",
              "                        <td id=\"T_3c155bc2_95fa_11ea_913d_0242ac1c0002row1_col2\" class=\"data row1 col2\" >5.000000</td>\n",
              "                        <td id=\"T_3c155bc2_95fa_11ea_913d_0242ac1c0002row1_col3\" class=\"data row1 col3\" >2.000000</td>\n",
              "                        <td id=\"T_3c155bc2_95fa_11ea_913d_0242ac1c0002row1_col4\" class=\"data row1 col4\" >Iris-virginica</td>\n",
              "            </tr>\n",
              "            <tr>\n",
              "                                <td id=\"T_3c155bc2_95fa_11ea_913d_0242ac1c0002row2_col0\" class=\"data row2 col0\" >5.800000</td>\n",
              "                        <td id=\"T_3c155bc2_95fa_11ea_913d_0242ac1c0002row2_col1\" class=\"data row2 col1\" >2.800000</td>\n",
              "                        <td id=\"T_3c155bc2_95fa_11ea_913d_0242ac1c0002row2_col2\" class=\"data row2 col2\" >5.100000</td>\n",
              "                        <td id=\"T_3c155bc2_95fa_11ea_913d_0242ac1c0002row2_col3\" class=\"data row2 col3\" >2.400000</td>\n",
              "                        <td id=\"T_3c155bc2_95fa_11ea_913d_0242ac1c0002row2_col4\" class=\"data row2 col4\" >Iris-virginica</td>\n",
              "            </tr>\n",
              "            <tr>\n",
              "                                <td id=\"T_3c155bc2_95fa_11ea_913d_0242ac1c0002row3_col0\" class=\"data row3 col0\" >6.200000</td>\n",
              "                        <td id=\"T_3c155bc2_95fa_11ea_913d_0242ac1c0002row3_col1\" class=\"data row3 col1\" >3.400000</td>\n",
              "                        <td id=\"T_3c155bc2_95fa_11ea_913d_0242ac1c0002row3_col2\" class=\"data row3 col2\" >5.400000</td>\n",
              "                        <td id=\"T_3c155bc2_95fa_11ea_913d_0242ac1c0002row3_col3\" class=\"data row3 col3\" >2.300000</td>\n",
              "                        <td id=\"T_3c155bc2_95fa_11ea_913d_0242ac1c0002row3_col4\" class=\"data row3 col4\" >Iris-virginica</td>\n",
              "            </tr>\n",
              "            <tr>\n",
              "                                <td id=\"T_3c155bc2_95fa_11ea_913d_0242ac1c0002row4_col0\" class=\"data row4 col0\" >6.300000</td>\n",
              "                        <td id=\"T_3c155bc2_95fa_11ea_913d_0242ac1c0002row4_col1\" class=\"data row4 col1\" >3.400000</td>\n",
              "                        <td id=\"T_3c155bc2_95fa_11ea_913d_0242ac1c0002row4_col2\" class=\"data row4 col2\" >5.600000</td>\n",
              "                        <td id=\"T_3c155bc2_95fa_11ea_913d_0242ac1c0002row4_col3\" class=\"data row4 col3\" >2.400000</td>\n",
              "                        <td id=\"T_3c155bc2_95fa_11ea_913d_0242ac1c0002row4_col4\" class=\"data row4 col4\" >Iris-virginica</td>\n",
              "            </tr>\n",
              "            <tr>\n",
              "                                <td id=\"T_3c155bc2_95fa_11ea_913d_0242ac1c0002row5_col0\" class=\"data row5 col0\" >6.300000</td>\n",
              "                        <td id=\"T_3c155bc2_95fa_11ea_913d_0242ac1c0002row5_col1\" class=\"data row5 col1\" >3.300000</td>\n",
              "                        <td id=\"T_3c155bc2_95fa_11ea_913d_0242ac1c0002row5_col2\" class=\"data row5 col2\" >6.000000</td>\n",
              "                        <td id=\"T_3c155bc2_95fa_11ea_913d_0242ac1c0002row5_col3\" class=\"data row5 col3\" >2.500000</td>\n",
              "                        <td id=\"T_3c155bc2_95fa_11ea_913d_0242ac1c0002row5_col4\" class=\"data row5 col4\" >Iris-virginica</td>\n",
              "            </tr>\n",
              "            <tr>\n",
              "                                <td id=\"T_3c155bc2_95fa_11ea_913d_0242ac1c0002row6_col0\" class=\"data row6 col0\" >6.400000</td>\n",
              "                        <td id=\"T_3c155bc2_95fa_11ea_913d_0242ac1c0002row6_col1\" class=\"data row6 col1\" >2.800000</td>\n",
              "                        <td id=\"T_3c155bc2_95fa_11ea_913d_0242ac1c0002row6_col2\" class=\"data row6 col2\" >5.600000</td>\n",
              "                        <td id=\"T_3c155bc2_95fa_11ea_913d_0242ac1c0002row6_col3\" class=\"data row6 col3\" >2.200000</td>\n",
              "                        <td id=\"T_3c155bc2_95fa_11ea_913d_0242ac1c0002row6_col4\" class=\"data row6 col4\" >Iris-virginica</td>\n",
              "            </tr>\n",
              "            <tr>\n",
              "                                <td id=\"T_3c155bc2_95fa_11ea_913d_0242ac1c0002row7_col0\" class=\"data row7 col0\" >6.400000</td>\n",
              "                        <td id=\"T_3c155bc2_95fa_11ea_913d_0242ac1c0002row7_col1\" class=\"data row7 col1\" >3.200000</td>\n",
              "                        <td id=\"T_3c155bc2_95fa_11ea_913d_0242ac1c0002row7_col2\" class=\"data row7 col2\" >5.300000</td>\n",
              "                        <td id=\"T_3c155bc2_95fa_11ea_913d_0242ac1c0002row7_col3\" class=\"data row7 col3\" >2.300000</td>\n",
              "                        <td id=\"T_3c155bc2_95fa_11ea_913d_0242ac1c0002row7_col4\" class=\"data row7 col4\" >Iris-virginica</td>\n",
              "            </tr>\n",
              "            <tr>\n",
              "                                <td id=\"T_3c155bc2_95fa_11ea_913d_0242ac1c0002row8_col0\" class=\"data row8 col0\" >6.400000</td>\n",
              "                        <td id=\"T_3c155bc2_95fa_11ea_913d_0242ac1c0002row8_col1\" class=\"data row8 col1\" >2.800000</td>\n",
              "                        <td id=\"T_3c155bc2_95fa_11ea_913d_0242ac1c0002row8_col2\" class=\"data row8 col2\" >5.600000</td>\n",
              "                        <td id=\"T_3c155bc2_95fa_11ea_913d_0242ac1c0002row8_col3\" class=\"data row8 col3\" >2.100000</td>\n",
              "                        <td id=\"T_3c155bc2_95fa_11ea_913d_0242ac1c0002row8_col4\" class=\"data row8 col4\" >Iris-virginica</td>\n",
              "            </tr>\n",
              "            <tr>\n",
              "                                <td id=\"T_3c155bc2_95fa_11ea_913d_0242ac1c0002row9_col0\" class=\"data row9 col0\" >6.500000</td>\n",
              "                        <td id=\"T_3c155bc2_95fa_11ea_913d_0242ac1c0002row9_col1\" class=\"data row9 col1\" >3.000000</td>\n",
              "                        <td id=\"T_3c155bc2_95fa_11ea_913d_0242ac1c0002row9_col2\" class=\"data row9 col2\" >5.200000</td>\n",
              "                        <td id=\"T_3c155bc2_95fa_11ea_913d_0242ac1c0002row9_col3\" class=\"data row9 col3\" >2.000000</td>\n",
              "                        <td id=\"T_3c155bc2_95fa_11ea_913d_0242ac1c0002row9_col4\" class=\"data row9 col4\" >Iris-virginica</td>\n",
              "            </tr>\n",
              "            <tr>\n",
              "                                <td id=\"T_3c155bc2_95fa_11ea_913d_0242ac1c0002row10_col0\" class=\"data row10 col0\" >6.500000</td>\n",
              "                        <td id=\"T_3c155bc2_95fa_11ea_913d_0242ac1c0002row10_col1\" class=\"data row10 col1\" >3.200000</td>\n",
              "                        <td id=\"T_3c155bc2_95fa_11ea_913d_0242ac1c0002row10_col2\" class=\"data row10 col2\" >5.100000</td>\n",
              "                        <td id=\"T_3c155bc2_95fa_11ea_913d_0242ac1c0002row10_col3\" class=\"data row10 col3\" >2.000000</td>\n",
              "                        <td id=\"T_3c155bc2_95fa_11ea_913d_0242ac1c0002row10_col4\" class=\"data row10 col4\" >Iris-virginica</td>\n",
              "            </tr>\n",
              "            <tr>\n",
              "                                <td id=\"T_3c155bc2_95fa_11ea_913d_0242ac1c0002row11_col0\" class=\"data row11 col0\" >6.500000</td>\n",
              "                        <td id=\"T_3c155bc2_95fa_11ea_913d_0242ac1c0002row11_col1\" class=\"data row11 col1\" >3.000000</td>\n",
              "                        <td id=\"T_3c155bc2_95fa_11ea_913d_0242ac1c0002row11_col2\" class=\"data row11 col2\" >5.800000</td>\n",
              "                        <td id=\"T_3c155bc2_95fa_11ea_913d_0242ac1c0002row11_col3\" class=\"data row11 col3\" >2.200000</td>\n",
              "                        <td id=\"T_3c155bc2_95fa_11ea_913d_0242ac1c0002row11_col4\" class=\"data row11 col4\" >Iris-virginica</td>\n",
              "            </tr>\n",
              "            <tr>\n",
              "                                <td id=\"T_3c155bc2_95fa_11ea_913d_0242ac1c0002row12_col0\" class=\"data row12 col0\" >6.700000</td>\n",
              "                        <td id=\"T_3c155bc2_95fa_11ea_913d_0242ac1c0002row12_col1\" class=\"data row12 col1\" >3.000000</td>\n",
              "                        <td id=\"T_3c155bc2_95fa_11ea_913d_0242ac1c0002row12_col2\" class=\"data row12 col2\" >5.200000</td>\n",
              "                        <td id=\"T_3c155bc2_95fa_11ea_913d_0242ac1c0002row12_col3\" class=\"data row12 col3\" >2.300000</td>\n",
              "                        <td id=\"T_3c155bc2_95fa_11ea_913d_0242ac1c0002row12_col4\" class=\"data row12 col4\" >Iris-virginica</td>\n",
              "            </tr>\n",
              "            <tr>\n",
              "                                <td id=\"T_3c155bc2_95fa_11ea_913d_0242ac1c0002row13_col0\" class=\"data row13 col0\" >6.700000</td>\n",
              "                        <td id=\"T_3c155bc2_95fa_11ea_913d_0242ac1c0002row13_col1\" class=\"data row13 col1\" >3.300000</td>\n",
              "                        <td id=\"T_3c155bc2_95fa_11ea_913d_0242ac1c0002row13_col2\" class=\"data row13 col2\" >5.700000</td>\n",
              "                        <td id=\"T_3c155bc2_95fa_11ea_913d_0242ac1c0002row13_col3\" class=\"data row13 col3\" >2.500000</td>\n",
              "                        <td id=\"T_3c155bc2_95fa_11ea_913d_0242ac1c0002row13_col4\" class=\"data row13 col4\" >Iris-virginica</td>\n",
              "            </tr>\n",
              "            <tr>\n",
              "                                <td id=\"T_3c155bc2_95fa_11ea_913d_0242ac1c0002row14_col0\" class=\"data row14 col0\" >6.700000</td>\n",
              "                        <td id=\"T_3c155bc2_95fa_11ea_913d_0242ac1c0002row14_col1\" class=\"data row14 col1\" >3.100000</td>\n",
              "                        <td id=\"T_3c155bc2_95fa_11ea_913d_0242ac1c0002row14_col2\" class=\"data row14 col2\" >5.600000</td>\n",
              "                        <td id=\"T_3c155bc2_95fa_11ea_913d_0242ac1c0002row14_col3\" class=\"data row14 col3\" >2.400000</td>\n",
              "                        <td id=\"T_3c155bc2_95fa_11ea_913d_0242ac1c0002row14_col4\" class=\"data row14 col4\" >Iris-virginica</td>\n",
              "            </tr>\n",
              "            <tr>\n",
              "                                <td id=\"T_3c155bc2_95fa_11ea_913d_0242ac1c0002row15_col0\" class=\"data row15 col0\" >6.700000</td>\n",
              "                        <td id=\"T_3c155bc2_95fa_11ea_913d_0242ac1c0002row15_col1\" class=\"data row15 col1\" >3.300000</td>\n",
              "                        <td id=\"T_3c155bc2_95fa_11ea_913d_0242ac1c0002row15_col2\" class=\"data row15 col2\" >5.700000</td>\n",
              "                        <td id=\"T_3c155bc2_95fa_11ea_913d_0242ac1c0002row15_col3\" class=\"data row15 col3\" >2.100000</td>\n",
              "                        <td id=\"T_3c155bc2_95fa_11ea_913d_0242ac1c0002row15_col4\" class=\"data row15 col4\" >Iris-virginica</td>\n",
              "            </tr>\n",
              "            <tr>\n",
              "                                <td id=\"T_3c155bc2_95fa_11ea_913d_0242ac1c0002row16_col0\" class=\"data row16 col0\" >6.800000</td>\n",
              "                        <td id=\"T_3c155bc2_95fa_11ea_913d_0242ac1c0002row16_col1\" class=\"data row16 col1\" >3.200000</td>\n",
              "                        <td id=\"T_3c155bc2_95fa_11ea_913d_0242ac1c0002row16_col2\" class=\"data row16 col2\" >5.900000</td>\n",
              "                        <td id=\"T_3c155bc2_95fa_11ea_913d_0242ac1c0002row16_col3\" class=\"data row16 col3\" >2.300000</td>\n",
              "                        <td id=\"T_3c155bc2_95fa_11ea_913d_0242ac1c0002row16_col4\" class=\"data row16 col4\" >Iris-virginica</td>\n",
              "            </tr>\n",
              "            <tr>\n",
              "                                <td id=\"T_3c155bc2_95fa_11ea_913d_0242ac1c0002row17_col0\" class=\"data row17 col0\" >6.800000</td>\n",
              "                        <td id=\"T_3c155bc2_95fa_11ea_913d_0242ac1c0002row17_col1\" class=\"data row17 col1\" >3.000000</td>\n",
              "                        <td id=\"T_3c155bc2_95fa_11ea_913d_0242ac1c0002row17_col2\" class=\"data row17 col2\" >5.500000</td>\n",
              "                        <td id=\"T_3c155bc2_95fa_11ea_913d_0242ac1c0002row17_col3\" class=\"data row17 col3\" >2.100000</td>\n",
              "                        <td id=\"T_3c155bc2_95fa_11ea_913d_0242ac1c0002row17_col4\" class=\"data row17 col4\" >Iris-virginica</td>\n",
              "            </tr>\n",
              "            <tr>\n",
              "                                <td id=\"T_3c155bc2_95fa_11ea_913d_0242ac1c0002row18_col0\" class=\"data row18 col0\" >6.900000</td>\n",
              "                        <td id=\"T_3c155bc2_95fa_11ea_913d_0242ac1c0002row18_col1\" class=\"data row18 col1\" >3.100000</td>\n",
              "                        <td id=\"T_3c155bc2_95fa_11ea_913d_0242ac1c0002row18_col2\" class=\"data row18 col2\" >5.400000</td>\n",
              "                        <td id=\"T_3c155bc2_95fa_11ea_913d_0242ac1c0002row18_col3\" class=\"data row18 col3\" >2.100000</td>\n",
              "                        <td id=\"T_3c155bc2_95fa_11ea_913d_0242ac1c0002row18_col4\" class=\"data row18 col4\" >Iris-virginica</td>\n",
              "            </tr>\n",
              "            <tr>\n",
              "                                <td id=\"T_3c155bc2_95fa_11ea_913d_0242ac1c0002row19_col0\" class=\"data row19 col0\" >6.900000</td>\n",
              "                        <td id=\"T_3c155bc2_95fa_11ea_913d_0242ac1c0002row19_col1\" class=\"data row19 col1\" >3.200000</td>\n",
              "                        <td id=\"T_3c155bc2_95fa_11ea_913d_0242ac1c0002row19_col2\" class=\"data row19 col2\" >5.700000</td>\n",
              "                        <td id=\"T_3c155bc2_95fa_11ea_913d_0242ac1c0002row19_col3\" class=\"data row19 col3\" >2.300000</td>\n",
              "                        <td id=\"T_3c155bc2_95fa_11ea_913d_0242ac1c0002row19_col4\" class=\"data row19 col4\" >Iris-virginica</td>\n",
              "            </tr>\n",
              "            <tr>\n",
              "                                <td id=\"T_3c155bc2_95fa_11ea_913d_0242ac1c0002row20_col0\" class=\"data row20 col0\" >6.900000</td>\n",
              "                        <td id=\"T_3c155bc2_95fa_11ea_913d_0242ac1c0002row20_col1\" class=\"data row20 col1\" >3.100000</td>\n",
              "                        <td id=\"T_3c155bc2_95fa_11ea_913d_0242ac1c0002row20_col2\" class=\"data row20 col2\" >5.100000</td>\n",
              "                        <td id=\"T_3c155bc2_95fa_11ea_913d_0242ac1c0002row20_col3\" class=\"data row20 col3\" >2.300000</td>\n",
              "                        <td id=\"T_3c155bc2_95fa_11ea_913d_0242ac1c0002row20_col4\" class=\"data row20 col4\" >Iris-virginica</td>\n",
              "            </tr>\n",
              "            <tr>\n",
              "                                <td id=\"T_3c155bc2_95fa_11ea_913d_0242ac1c0002row21_col0\" class=\"data row21 col0\" >7.100000</td>\n",
              "                        <td id=\"T_3c155bc2_95fa_11ea_913d_0242ac1c0002row21_col1\" class=\"data row21 col1\" >3.000000</td>\n",
              "                        <td id=\"T_3c155bc2_95fa_11ea_913d_0242ac1c0002row21_col2\" class=\"data row21 col2\" >5.900000</td>\n",
              "                        <td id=\"T_3c155bc2_95fa_11ea_913d_0242ac1c0002row21_col3\" class=\"data row21 col3\" >2.100000</td>\n",
              "                        <td id=\"T_3c155bc2_95fa_11ea_913d_0242ac1c0002row21_col4\" class=\"data row21 col4\" >Iris-virginica</td>\n",
              "            </tr>\n",
              "            <tr>\n",
              "                                <td id=\"T_3c155bc2_95fa_11ea_913d_0242ac1c0002row22_col0\" class=\"data row22 col0\" >7.200000</td>\n",
              "                        <td id=\"T_3c155bc2_95fa_11ea_913d_0242ac1c0002row22_col1\" class=\"data row22 col1\" >3.600000</td>\n",
              "                        <td id=\"T_3c155bc2_95fa_11ea_913d_0242ac1c0002row22_col2\" class=\"data row22 col2\" >6.100000</td>\n",
              "                        <td id=\"T_3c155bc2_95fa_11ea_913d_0242ac1c0002row22_col3\" class=\"data row22 col3\" >2.500000</td>\n",
              "                        <td id=\"T_3c155bc2_95fa_11ea_913d_0242ac1c0002row22_col4\" class=\"data row22 col4\" >Iris-virginica</td>\n",
              "            </tr>\n",
              "            <tr>\n",
              "                                <td id=\"T_3c155bc2_95fa_11ea_913d_0242ac1c0002row23_col0\" class=\"data row23 col0\" >7.600000</td>\n",
              "                        <td id=\"T_3c155bc2_95fa_11ea_913d_0242ac1c0002row23_col1\" class=\"data row23 col1\" >3.000000</td>\n",
              "                        <td id=\"T_3c155bc2_95fa_11ea_913d_0242ac1c0002row23_col2\" class=\"data row23 col2\" >6.600000</td>\n",
              "                        <td id=\"T_3c155bc2_95fa_11ea_913d_0242ac1c0002row23_col3\" class=\"data row23 col3\" >2.100000</td>\n",
              "                        <td id=\"T_3c155bc2_95fa_11ea_913d_0242ac1c0002row23_col4\" class=\"data row23 col4\" >Iris-virginica</td>\n",
              "            </tr>\n",
              "            <tr>\n",
              "                                <td id=\"T_3c155bc2_95fa_11ea_913d_0242ac1c0002row24_col0\" class=\"data row24 col0\" >7.700000</td>\n",
              "                        <td id=\"T_3c155bc2_95fa_11ea_913d_0242ac1c0002row24_col1\" class=\"data row24 col1\" >2.800000</td>\n",
              "                        <td id=\"T_3c155bc2_95fa_11ea_913d_0242ac1c0002row24_col2\" class=\"data row24 col2\" >6.700000</td>\n",
              "                        <td id=\"T_3c155bc2_95fa_11ea_913d_0242ac1c0002row24_col3\" class=\"data row24 col3\" >2.000000</td>\n",
              "                        <td id=\"T_3c155bc2_95fa_11ea_913d_0242ac1c0002row24_col4\" class=\"data row24 col4\" >Iris-virginica</td>\n",
              "            </tr>\n",
              "            <tr>\n",
              "                                <td id=\"T_3c155bc2_95fa_11ea_913d_0242ac1c0002row25_col0\" class=\"data row25 col0\" >7.700000</td>\n",
              "                        <td id=\"T_3c155bc2_95fa_11ea_913d_0242ac1c0002row25_col1\" class=\"data row25 col1\" >2.600000</td>\n",
              "                        <td id=\"T_3c155bc2_95fa_11ea_913d_0242ac1c0002row25_col2\" class=\"data row25 col2\" >6.900000</td>\n",
              "                        <td id=\"T_3c155bc2_95fa_11ea_913d_0242ac1c0002row25_col3\" class=\"data row25 col3\" >2.300000</td>\n",
              "                        <td id=\"T_3c155bc2_95fa_11ea_913d_0242ac1c0002row25_col4\" class=\"data row25 col4\" >Iris-virginica</td>\n",
              "            </tr>\n",
              "            <tr>\n",
              "                                <td id=\"T_3c155bc2_95fa_11ea_913d_0242ac1c0002row26_col0\" class=\"data row26 col0\" >7.700000</td>\n",
              "                        <td id=\"T_3c155bc2_95fa_11ea_913d_0242ac1c0002row26_col1\" class=\"data row26 col1\" >3.800000</td>\n",
              "                        <td id=\"T_3c155bc2_95fa_11ea_913d_0242ac1c0002row26_col2\" class=\"data row26 col2\" >6.700000</td>\n",
              "                        <td id=\"T_3c155bc2_95fa_11ea_913d_0242ac1c0002row26_col3\" class=\"data row26 col3\" >2.200000</td>\n",
              "                        <td id=\"T_3c155bc2_95fa_11ea_913d_0242ac1c0002row26_col4\" class=\"data row26 col4\" >Iris-virginica</td>\n",
              "            </tr>\n",
              "            <tr>\n",
              "                                <td id=\"T_3c155bc2_95fa_11ea_913d_0242ac1c0002row27_col0\" class=\"data row27 col0\" >7.700000</td>\n",
              "                        <td id=\"T_3c155bc2_95fa_11ea_913d_0242ac1c0002row27_col1\" class=\"data row27 col1\" >3.000000</td>\n",
              "                        <td id=\"T_3c155bc2_95fa_11ea_913d_0242ac1c0002row27_col2\" class=\"data row27 col2\" >6.100000</td>\n",
              "                        <td id=\"T_3c155bc2_95fa_11ea_913d_0242ac1c0002row27_col3\" class=\"data row27 col3\" >2.300000</td>\n",
              "                        <td id=\"T_3c155bc2_95fa_11ea_913d_0242ac1c0002row27_col4\" class=\"data row27 col4\" >Iris-virginica</td>\n",
              "            </tr>\n",
              "            <tr>\n",
              "                                <td id=\"T_3c155bc2_95fa_11ea_913d_0242ac1c0002row28_col0\" class=\"data row28 col0\" >7.900000</td>\n",
              "                        <td id=\"T_3c155bc2_95fa_11ea_913d_0242ac1c0002row28_col1\" class=\"data row28 col1\" >3.800000</td>\n",
              "                        <td id=\"T_3c155bc2_95fa_11ea_913d_0242ac1c0002row28_col2\" class=\"data row28 col2\" >6.400000</td>\n",
              "                        <td id=\"T_3c155bc2_95fa_11ea_913d_0242ac1c0002row28_col3\" class=\"data row28 col3\" >2.000000</td>\n",
              "                        <td id=\"T_3c155bc2_95fa_11ea_913d_0242ac1c0002row28_col4\" class=\"data row28 col4\" >Iris-virginica</td>\n",
              "            </tr>\n",
              "    </tbody></table>"
            ],
            "text/plain": [
              "<pandas.io.formats.style.Styler at 0x7f60ed1be2b0>"
            ]
          },
          "metadata": {
            "tags": []
          },
          "execution_count": 6
        }
      ]
    },
    {
      "cell_type": "code",
      "metadata": {
        "id": "kMnHMgg8rtkT",
        "colab_type": "code",
        "outputId": "1dc0cbfc-edd0-465c-da0a-757318330574",
        "colab": {
          "base_uri": "https://localhost:8080/",
          "height": 287
        }
      },
      "source": [
        "# 2. Profiling\n",
        "# ---\n",
        "# Pandas profiling provides analysis like type, unique values, missing values, \n",
        "# quantile statistics, mean, mode, median, standard deviation, sum, skewness, \n",
        "# frequent values, histograms, correlation between variables, count, heatmap visualization, etc.\n",
        "# ---\n",
        "# This is usually the quickest way to perfoming exploratory data analysis.\n",
        "# ---\n",
        "# \n",
        "\n",
        "# For comparison purposes, we will first get the summary of our dataset \n",
        "# by running the describe() method which is also another commonly used \n",
        "# method for displaying the statistical summary of our dataset.\n",
        "# ---\n",
        "# \n",
        "df.describe()"
      ],
      "execution_count": 0,
      "outputs": [
        {
          "output_type": "execute_result",
          "data": {
            "text/html": [
              "<div>\n",
              "<style scoped>\n",
              "    .dataframe tbody tr th:only-of-type {\n",
              "        vertical-align: middle;\n",
              "    }\n",
              "\n",
              "    .dataframe tbody tr th {\n",
              "        vertical-align: top;\n",
              "    }\n",
              "\n",
              "    .dataframe thead th {\n",
              "        text-align: right;\n",
              "    }\n",
              "</style>\n",
              "<table border=\"1\" class=\"dataframe\">\n",
              "  <thead>\n",
              "    <tr style=\"text-align: right;\">\n",
              "      <th></th>\n",
              "      <th>sepal_length</th>\n",
              "      <th>sepal_width</th>\n",
              "      <th>petal_length</th>\n",
              "      <th>petal_width</th>\n",
              "    </tr>\n",
              "  </thead>\n",
              "  <tbody>\n",
              "    <tr>\n",
              "      <th>count</th>\n",
              "      <td>29.000000</td>\n",
              "      <td>29.000000</td>\n",
              "      <td>29.000000</td>\n",
              "      <td>29.000000</td>\n",
              "    </tr>\n",
              "    <tr>\n",
              "      <th>mean</th>\n",
              "      <td>6.768966</td>\n",
              "      <td>3.106897</td>\n",
              "      <td>5.717241</td>\n",
              "      <td>2.217241</td>\n",
              "    </tr>\n",
              "    <tr>\n",
              "      <th>std</th>\n",
              "      <td>0.616501</td>\n",
              "      <td>0.310450</td>\n",
              "      <td>0.546462</td>\n",
              "      <td>0.164900</td>\n",
              "    </tr>\n",
              "    <tr>\n",
              "      <th>min</th>\n",
              "      <td>5.600000</td>\n",
              "      <td>2.500000</td>\n",
              "      <td>4.900000</td>\n",
              "      <td>2.000000</td>\n",
              "    </tr>\n",
              "    <tr>\n",
              "      <th>25%</th>\n",
              "      <td>6.400000</td>\n",
              "      <td>3.000000</td>\n",
              "      <td>5.300000</td>\n",
              "      <td>2.100000</td>\n",
              "    </tr>\n",
              "    <tr>\n",
              "      <th>50%</th>\n",
              "      <td>6.700000</td>\n",
              "      <td>3.100000</td>\n",
              "      <td>5.600000</td>\n",
              "      <td>2.200000</td>\n",
              "    </tr>\n",
              "    <tr>\n",
              "      <th>75%</th>\n",
              "      <td>7.100000</td>\n",
              "      <td>3.300000</td>\n",
              "      <td>6.000000</td>\n",
              "      <td>2.300000</td>\n",
              "    </tr>\n",
              "    <tr>\n",
              "      <th>max</th>\n",
              "      <td>7.900000</td>\n",
              "      <td>3.800000</td>\n",
              "      <td>6.900000</td>\n",
              "      <td>2.500000</td>\n",
              "    </tr>\n",
              "  </tbody>\n",
              "</table>\n",
              "</div>"
            ],
            "text/plain": [
              "       sepal_length  sepal_width  petal_length  petal_width\n",
              "count     29.000000    29.000000     29.000000    29.000000\n",
              "mean       6.768966     3.106897      5.717241     2.217241\n",
              "std        0.616501     0.310450      0.546462     0.164900\n",
              "min        5.600000     2.500000      4.900000     2.000000\n",
              "25%        6.400000     3.000000      5.300000     2.100000\n",
              "50%        6.700000     3.100000      5.600000     2.200000\n",
              "75%        7.100000     3.300000      6.000000     2.300000\n",
              "max        7.900000     3.800000      6.900000     2.500000"
            ]
          },
          "metadata": {
            "tags": []
          },
          "execution_count": 7
        }
      ]
    },
    {
      "cell_type": "code",
      "metadata": {
        "id": "jOjOW-fNS7Bx",
        "colab_type": "code",
        "outputId": "dd710948-a880-4730-b111-c4f61de06af8",
        "colab": {
          "base_uri": "https://localhost:8080/",
          "height": 568
        }
      },
      "source": [
        "# Then later run pandas profiling on our dataframe, which \n",
        "# as compared to the describe method will give us more \n",
        "# details about our dataset.\n",
        "# ---\n",
        "# But before we do that, we need to import our profiling package as shown.\n",
        "# This package requires pandas version 1.25. \n",
        "# So we will first install that pandas version first and then import it.\n",
        "# ---\n",
        "# Note that once we make our installation, we will need to restart \n",
        "# our runtime in our environment by Selecting Runtime > restart runtime... \n",
        "# on our Notebook menu above. \n",
        "\n",
        "# Let's now installing the both pandas 1.25 and the pandas-profiling library.\n",
        "# Don't worry about the output messages.\n",
        "# ---\n",
        "# \n",
        "!pip install pandas==0.25 \n",
        "!pip install pandas-profiling"
      ],
      "execution_count": 0,
      "outputs": [
        {
          "output_type": "stream",
          "text": [
            "Collecting pandas==0.25\n",
            "\u001b[?25l  Downloading https://files.pythonhosted.org/packages/1d/9a/7eb9952f4b4d73fbd75ad1d5d6112f407e695957444cb695cbb3cdab918a/pandas-0.25.0-cp36-cp36m-manylinux1_x86_64.whl (10.5MB)\n",
            "\u001b[K     |████████████████████████████████| 10.5MB 2.7MB/s \n",
            "\u001b[?25hRequirement already satisfied: numpy>=1.13.3 in /usr/local/lib/python3.6/dist-packages (from pandas==0.25) (1.18.4)\n",
            "Requirement already satisfied: pytz>=2017.2 in /usr/local/lib/python3.6/dist-packages (from pandas==0.25) (2018.9)\n",
            "Requirement already satisfied: python-dateutil>=2.6.1 in /usr/local/lib/python3.6/dist-packages (from pandas==0.25) (2.8.1)\n",
            "Requirement already satisfied: six>=1.5 in /usr/local/lib/python3.6/dist-packages (from python-dateutil>=2.6.1->pandas==0.25) (1.12.0)\n",
            "\u001b[31mERROR: google-colab 1.0.0 has requirement pandas~=1.0.0; python_version >= \"3.0\", but you'll have pandas 0.25.0 which is incompatible.\u001b[0m\n",
            "Installing collected packages: pandas\n",
            "  Found existing installation: pandas 1.0.3\n",
            "    Uninstalling pandas-1.0.3:\n",
            "      Successfully uninstalled pandas-1.0.3\n",
            "Successfully installed pandas-0.25.0\n"
          ],
          "name": "stdout"
        },
        {
          "output_type": "display_data",
          "data": {
            "application/vnd.colab-display-data+json": {
              "pip_warning": {
                "packages": [
                  "pandas"
                ]
              }
            }
          },
          "metadata": {
            "tags": []
          }
        },
        {
          "output_type": "stream",
          "text": [
            "Requirement already satisfied: pandas-profiling in /usr/local/lib/python3.6/dist-packages (1.4.1)\n",
            "Requirement already satisfied: matplotlib>=1.4 in /usr/local/lib/python3.6/dist-packages (from pandas-profiling) (3.2.1)\n",
            "Requirement already satisfied: pandas>=0.19 in /usr/local/lib/python3.6/dist-packages (from pandas-profiling) (0.25.0)\n",
            "Requirement already satisfied: six>=1.9 in /usr/local/lib/python3.6/dist-packages (from pandas-profiling) (1.12.0)\n",
            "Requirement already satisfied: jinja2>=2.8 in /usr/local/lib/python3.6/dist-packages (from pandas-profiling) (2.11.2)\n",
            "Requirement already satisfied: kiwisolver>=1.0.1 in /usr/local/lib/python3.6/dist-packages (from matplotlib>=1.4->pandas-profiling) (1.2.0)\n",
            "Requirement already satisfied: python-dateutil>=2.1 in /usr/local/lib/python3.6/dist-packages (from matplotlib>=1.4->pandas-profiling) (2.8.1)\n",
            "Requirement already satisfied: pyparsing!=2.0.4,!=2.1.2,!=2.1.6,>=2.0.1 in /usr/local/lib/python3.6/dist-packages (from matplotlib>=1.4->pandas-profiling) (2.4.7)\n",
            "Requirement already satisfied: numpy>=1.11 in /usr/local/lib/python3.6/dist-packages (from matplotlib>=1.4->pandas-profiling) (1.18.4)\n",
            "Requirement already satisfied: cycler>=0.10 in /usr/local/lib/python3.6/dist-packages (from matplotlib>=1.4->pandas-profiling) (0.10.0)\n",
            "Requirement already satisfied: pytz>=2017.2 in /usr/local/lib/python3.6/dist-packages (from pandas>=0.19->pandas-profiling) (2018.9)\n",
            "Requirement already satisfied: MarkupSafe>=0.23 in /usr/local/lib/python3.6/dist-packages (from jinja2>=2.8->pandas-profiling) (1.1.1)\n"
          ],
          "name": "stdout"
        }
      ]
    },
    {
      "cell_type": "code",
      "metadata": {
        "id": "ofwjViRSTfNi",
        "colab_type": "code",
        "outputId": "c2f9aaa0-c931-46c8-9172-afeb07616f6a",
        "colab": {
          "base_uri": "https://localhost:8080/",
          "height": 390
        }
      },
      "source": [
        "# Once our installation is done, we can now import the ProfileReport \n",
        "# and run the following code, which returns a profiling report. \n",
        "# ---\n",
        "# As we will get to see, the pandas profiling report will provide us with exploratory analysis \n",
        "# details that we will need to have before performing any further analysis.  \n",
        "# ---\n",
        "# 1. Essentials: type, unique values, missing values\n",
        "# 2. Quantile statistics like minimum value, Q1, median, Q3, maximum, range, interquartile range\n",
        "# 3. Descriptive statistics like mean, mode, standard deviation, sum, median absolute deviation, \n",
        "#    coefficient of variation, kurtosis, skewness\n",
        "# 4. Most frequent values\n",
        "# 5. Histogram\n",
        "# 6. Correlations highlighting of highly correlated variables, Spearman and Pearson matrixes\n",
        "# ---\n",
        "# \n",
        "\n",
        "# Something to note is that, because we restarted our runtime, we will need to\n",
        "# import our required libraries once again. \n",
        "#\n",
        "import pandas as pd \n",
        "import numpy as np \n",
        "import matplotlib.pyplot as plt\n",
        "import seaborn as sns\n",
        "% matplotlib inline\n",
        "\n",
        "\n",
        "# Again, let's read the dataset that we use in our profiling report\n",
        "# --- \n",
        "df = pd.read_csv(\"http://bit.ly/IrisDataset\") \n",
        "\n",
        "# Then import the ProfileReport method from from the pandas profiling library.\n",
        "# --- \n",
        "from pandas_profiling import ProfileReport\n",
        "\n",
        "profile_report = ProfileReport(df) \n",
        "profile_report"
      ],
      "execution_count": 0,
      "outputs": [
        {
          "output_type": "error",
          "ename": "TypeError",
          "evalue": "ignored",
          "traceback": [
            "\u001b[0;31m---------------------------------------------------------------------------\u001b[0m",
            "\u001b[0;31mTypeError\u001b[0m                                 Traceback (most recent call last)",
            "\u001b[0;32m<ipython-input-3-f54ade1ad19c>\u001b[0m in \u001b[0;36m<module>\u001b[0;34m()\u001b[0m\n\u001b[1;32m     33\u001b[0m \u001b[0;32mfrom\u001b[0m \u001b[0mpandas_profiling\u001b[0m \u001b[0;32mimport\u001b[0m \u001b[0mProfileReport\u001b[0m\u001b[0;34m\u001b[0m\u001b[0;34m\u001b[0m\u001b[0m\n\u001b[1;32m     34\u001b[0m \u001b[0;34m\u001b[0m\u001b[0m\n\u001b[0;32m---> 35\u001b[0;31m \u001b[0mprofile_report\u001b[0m \u001b[0;34m=\u001b[0m \u001b[0mProfileReport\u001b[0m\u001b[0;34m(\u001b[0m\u001b[0mdf\u001b[0m\u001b[0;34m)\u001b[0m\u001b[0;34m\u001b[0m\u001b[0;34m\u001b[0m\u001b[0m\n\u001b[0m\u001b[1;32m     36\u001b[0m \u001b[0mprofile_report\u001b[0m\u001b[0;34m\u001b[0m\u001b[0;34m\u001b[0m\u001b[0m\n",
            "\u001b[0;32m/usr/local/lib/python3.6/dist-packages/pandas_profiling/__init__.py\u001b[0m in \u001b[0;36m__init__\u001b[0;34m(self, df, **kwargs)\u001b[0m\n\u001b[1;32m     64\u001b[0m         \u001b[0msample\u001b[0m \u001b[0;34m=\u001b[0m \u001b[0mkwargs\u001b[0m\u001b[0;34m.\u001b[0m\u001b[0mget\u001b[0m\u001b[0;34m(\u001b[0m\u001b[0;34m'sample'\u001b[0m\u001b[0;34m,\u001b[0m \u001b[0mdf\u001b[0m\u001b[0;34m.\u001b[0m\u001b[0mhead\u001b[0m\u001b[0;34m(\u001b[0m\u001b[0;34m)\u001b[0m\u001b[0;34m)\u001b[0m\u001b[0;34m\u001b[0m\u001b[0;34m\u001b[0m\u001b[0m\n\u001b[1;32m     65\u001b[0m \u001b[0;34m\u001b[0m\u001b[0m\n\u001b[0;32m---> 66\u001b[0;31m         \u001b[0mdescription_set\u001b[0m \u001b[0;34m=\u001b[0m \u001b[0mdescribe\u001b[0m\u001b[0;34m(\u001b[0m\u001b[0mdf\u001b[0m\u001b[0;34m,\u001b[0m \u001b[0;34m**\u001b[0m\u001b[0mkwargs\u001b[0m\u001b[0;34m)\u001b[0m\u001b[0;34m\u001b[0m\u001b[0;34m\u001b[0m\u001b[0m\n\u001b[0m\u001b[1;32m     67\u001b[0m \u001b[0;34m\u001b[0m\u001b[0m\n\u001b[1;32m     68\u001b[0m         self.html = to_html(sample,\n",
            "\u001b[0;32m/usr/local/lib/python3.6/dist-packages/pandas_profiling/describe.py\u001b[0m in \u001b[0;36mdescribe\u001b[0;34m(df, bins, check_correlation, correlation_threshold, correlation_overrides, check_recoded, pool_size, **kwargs)\u001b[0m\n\u001b[1;32m    390\u001b[0m             \u001b[0;32mif\u001b[0m \u001b[0mname\u001b[0m \u001b[0;32mnot\u001b[0m \u001b[0;32min\u001b[0m \u001b[0mnames\u001b[0m\u001b[0;34m:\u001b[0m\u001b[0;34m\u001b[0m\u001b[0;34m\u001b[0m\u001b[0m\n\u001b[1;32m    391\u001b[0m                 \u001b[0mnames\u001b[0m\u001b[0;34m.\u001b[0m\u001b[0mappend\u001b[0m\u001b[0;34m(\u001b[0m\u001b[0mname\u001b[0m\u001b[0;34m)\u001b[0m\u001b[0;34m\u001b[0m\u001b[0;34m\u001b[0m\u001b[0m\n\u001b[0;32m--> 392\u001b[0;31m     \u001b[0mvariable_stats\u001b[0m \u001b[0;34m=\u001b[0m \u001b[0mpd\u001b[0m\u001b[0;34m.\u001b[0m\u001b[0mconcat\u001b[0m\u001b[0;34m(\u001b[0m\u001b[0mldesc\u001b[0m\u001b[0;34m,\u001b[0m \u001b[0mjoin_axes\u001b[0m\u001b[0;34m=\u001b[0m\u001b[0mpd\u001b[0m\u001b[0;34m.\u001b[0m\u001b[0mIndex\u001b[0m\u001b[0;34m(\u001b[0m\u001b[0;34m[\u001b[0m\u001b[0mnames\u001b[0m\u001b[0;34m]\u001b[0m\u001b[0;34m)\u001b[0m\u001b[0;34m,\u001b[0m \u001b[0maxis\u001b[0m\u001b[0;34m=\u001b[0m\u001b[0;36m1\u001b[0m\u001b[0;34m)\u001b[0m\u001b[0;34m\u001b[0m\u001b[0;34m\u001b[0m\u001b[0m\n\u001b[0m\u001b[1;32m    393\u001b[0m     \u001b[0mvariable_stats\u001b[0m\u001b[0;34m.\u001b[0m\u001b[0mcolumns\u001b[0m\u001b[0;34m.\u001b[0m\u001b[0mnames\u001b[0m \u001b[0;34m=\u001b[0m \u001b[0mdf\u001b[0m\u001b[0;34m.\u001b[0m\u001b[0mcolumns\u001b[0m\u001b[0;34m.\u001b[0m\u001b[0mnames\u001b[0m\u001b[0;34m\u001b[0m\u001b[0;34m\u001b[0m\u001b[0m\n\u001b[1;32m    394\u001b[0m \u001b[0;34m\u001b[0m\u001b[0m\n",
            "\u001b[0;31mTypeError\u001b[0m: concat() got an unexpected keyword argument 'join_axes'"
          ]
        }
      ]
    },
    {
      "cell_type": "code",
      "metadata": {
        "id": "aK7coK43gjG3",
        "colab_type": "code",
        "colab": {}
      },
      "source": [
        ""
      ],
      "execution_count": 0,
      "outputs": []
    },
    {
      "cell_type": "markdown",
      "metadata": {
        "colab_type": "text",
        "id": "H5VxrldhrQbu"
      },
      "source": [
        "### <font color=\"green\">Challenges</font>"
      ]
    },
    {
      "cell_type": "code",
      "metadata": {
        "colab_type": "code",
        "id": "NN8bmEhlrQbw",
        "outputId": "c4dd6efd-92ed-4f0b-e5f3-9fb998576aaf",
        "colab": {
          "base_uri": "https://localhost:8080/",
          "height": 212
        }
      },
      "source": [
        "# Challenge 1\n",
        "# --- \n",
        "# As a Senior Data Analyst for a chain of fashion stores in the Netherlands,\n",
        "# you have been tasked help the store how to understand better its sales strategy\n",
        "# during this time of the Coronavirus epidemic. Create a table highlighting \n",
        "# the top 10 stores with the highest no. of sales sorting the stores \n",
        "# by the number of temporary workers timers.\n",
        "# Below is a glossary of the dataset:\n",
        "# tsales: annual sales in Dutch guilders\n",
        "# sales: sales per square meter\n",
        "# margin: gross-profit-margin\n",
        "# nown: number of owners (managers)\n",
        "# nfull: number of full-timers\n",
        "# npart: number of part-timers\n",
        "# naux :number of helpers (temporary workers)\n",
        "# hoursw: total number of hours worked\n",
        "# -hourspw: number of hours worked per worker\n",
        "# inv1: investment in shop-premises\n",
        "# inv2: investment in automation\n",
        "# -ssize: sales floorspace of the store (in m$^2$)\n",
        "# start: year start of business\n",
        "# ---\n",
        "# Dataset url = https://bit.ly/2At3KGf\n",
        "# ---\n",
        "# OUR CODE GOES BELOW\n",
        "df = pd.read_csv(\"https://bit.ly/2At3KGf\")\n",
        "\n",
        "df['sales'].nlargest(10)"
      ],
      "execution_count": 0,
      "outputs": [
        {
          "output_type": "execute_result",
          "data": {
            "text/plain": [
              "206    27000.00\n",
              "142    24293.75\n",
              "239    23639.34\n",
              "267    19263.95\n",
              "82     19192.86\n",
              "83     18435.71\n",
              "153    17512.68\n",
              "396    16666.67\n",
              "27     15454.55\n",
              "293    15427.27\n",
              "Name: sales, dtype: float64"
            ]
          },
          "metadata": {
            "tags": []
          },
          "execution_count": 5
        }
      ]
    },
    {
      "cell_type": "code",
      "metadata": {
        "id": "gnbtQShTlvm1",
        "colab_type": "code",
        "colab": {}
      },
      "source": [
        "# Challenge 2\n",
        "# ---\n",
        "# Still working for the chain of fashion stores, \n",
        "# display a basic statisical summary using the describe() method. \n",
        "# Later onwards create a profile report of the dataset. \n",
        "# Hint: You don't need to import your profile report libraries again.\n",
        "# ---\n",
        "# OUR CODE GOES BELOW\n",
        "df = pd.read_csv(\"https://bit.ly/2At3KGf\")\n",
        "\n",
        "\n"
      ],
      "execution_count": 0,
      "outputs": []
    },
    {
      "cell_type": "markdown",
      "metadata": {
        "id": "wgDarfsQiiDY",
        "colab_type": "text"
      },
      "source": [
        "## 2. Basic Visualisation Tools II"
      ]
    },
    {
      "cell_type": "markdown",
      "metadata": {
        "id": "1WwBw978m0UQ",
        "colab_type": "text"
      },
      "source": [
        "### <font color=\"blue\">Examples</font>"
      ]
    },
    {
      "cell_type": "code",
      "metadata": {
        "id": "CLwKd2bXikqo",
        "colab_type": "code",
        "outputId": "c862f896-cfeb-466d-9dcb-99d2498adb28",
        "colab": {
          "base_uri": "https://localhost:8080/",
          "height": 197
        }
      },
      "source": [
        "# Example 1: Bar Chart\n",
        "# ---\n",
        "# A bar chart is a chart or graph that presents categorical data with rectangular bars \n",
        "# with heights or lengths proportional to the values that they represent.\n",
        "# Lets now see how we can create bar charts using matplotlib.\n",
        "# ---\n",
        "# Dataset url = https://bit.ly/TipsDataset\n",
        "# ---\n",
        "# \n",
        "\n",
        "# We first preview our dataset\n",
        "# ---\n",
        "# \n",
        "df = pd.read_csv('https://bit.ly/TipsDataset')\n",
        "df.head()"
      ],
      "execution_count": 0,
      "outputs": [
        {
          "output_type": "execute_result",
          "data": {
            "text/html": [
              "<div>\n",
              "<style scoped>\n",
              "    .dataframe tbody tr th:only-of-type {\n",
              "        vertical-align: middle;\n",
              "    }\n",
              "\n",
              "    .dataframe tbody tr th {\n",
              "        vertical-align: top;\n",
              "    }\n",
              "\n",
              "    .dataframe thead th {\n",
              "        text-align: right;\n",
              "    }\n",
              "</style>\n",
              "<table border=\"1\" class=\"dataframe\">\n",
              "  <thead>\n",
              "    <tr style=\"text-align: right;\">\n",
              "      <th></th>\n",
              "      <th>total_bill</th>\n",
              "      <th>tip</th>\n",
              "      <th>sex</th>\n",
              "      <th>smoker</th>\n",
              "      <th>day</th>\n",
              "      <th>time</th>\n",
              "      <th>size</th>\n",
              "    </tr>\n",
              "  </thead>\n",
              "  <tbody>\n",
              "    <tr>\n",
              "      <th>0</th>\n",
              "      <td>16.99</td>\n",
              "      <td>1.01</td>\n",
              "      <td>Female</td>\n",
              "      <td>No</td>\n",
              "      <td>Sun</td>\n",
              "      <td>Dinner</td>\n",
              "      <td>2</td>\n",
              "    </tr>\n",
              "    <tr>\n",
              "      <th>1</th>\n",
              "      <td>10.34</td>\n",
              "      <td>1.66</td>\n",
              "      <td>Male</td>\n",
              "      <td>No</td>\n",
              "      <td>Sun</td>\n",
              "      <td>Dinner</td>\n",
              "      <td>3</td>\n",
              "    </tr>\n",
              "    <tr>\n",
              "      <th>2</th>\n",
              "      <td>21.01</td>\n",
              "      <td>3.50</td>\n",
              "      <td>Male</td>\n",
              "      <td>No</td>\n",
              "      <td>Sun</td>\n",
              "      <td>Dinner</td>\n",
              "      <td>3</td>\n",
              "    </tr>\n",
              "    <tr>\n",
              "      <th>3</th>\n",
              "      <td>23.68</td>\n",
              "      <td>3.31</td>\n",
              "      <td>Male</td>\n",
              "      <td>No</td>\n",
              "      <td>Sun</td>\n",
              "      <td>Dinner</td>\n",
              "      <td>2</td>\n",
              "    </tr>\n",
              "    <tr>\n",
              "      <th>4</th>\n",
              "      <td>24.59</td>\n",
              "      <td>3.61</td>\n",
              "      <td>Female</td>\n",
              "      <td>No</td>\n",
              "      <td>Sun</td>\n",
              "      <td>Dinner</td>\n",
              "      <td>4</td>\n",
              "    </tr>\n",
              "  </tbody>\n",
              "</table>\n",
              "</div>"
            ],
            "text/plain": [
              "   total_bill   tip     sex smoker  day    time  size\n",
              "0       16.99  1.01  Female     No  Sun  Dinner     2\n",
              "1       10.34  1.66    Male     No  Sun  Dinner     3\n",
              "2       21.01  3.50    Male     No  Sun  Dinner     3\n",
              "3       23.68  3.31    Male     No  Sun  Dinner     2\n",
              "4       24.59  3.61  Female     No  Sun  Dinner     4"
            ]
          },
          "metadata": {
            "tags": []
          },
          "execution_count": 4
        }
      ]
    },
    {
      "cell_type": "code",
      "metadata": {
        "id": "8BJJy3Wq212h",
        "colab_type": "code",
        "outputId": "4edefa83-91a6-49c6-c9ff-21c27c6f7e69",
        "colab": {
          "base_uri": "https://localhost:8080/",
          "height": 70
        }
      },
      "source": [
        "# As seen, our dataset contains categorical variables; sex, day, time and size\n",
        "# ---\n",
        "# We can examine the smoker categorical variable by \n",
        "# ---\n",
        "# \n",
        "df['smoker'].value_counts()"
      ],
      "execution_count": 0,
      "outputs": [
        {
          "output_type": "execute_result",
          "data": {
            "text/plain": [
              "No     151\n",
              "Yes     93\n",
              "Name: smoker, dtype: int64"
            ]
          },
          "metadata": {
            "tags": []
          },
          "execution_count": 5
        }
      ]
    },
    {
      "cell_type": "code",
      "metadata": {
        "id": "eU72uc6B3r8N",
        "colab_type": "code",
        "outputId": "cd03bcc0-5c66-4494-978f-78a321af83db",
        "colab": {
          "base_uri": "https://localhost:8080/",
          "height": 496
        }
      },
      "source": [
        "# We then plot our bar plot and display it\n",
        "# ---\n",
        "# Note the semi-colon at the end of our code.\n",
        "# We add it to suppress matplotlib output which is shown if the semicolon is not present.\n",
        "# Alternatively, we can just another line of code; plt.show()\n",
        "# ---\n",
        "#\n",
        "df['smoker'].value_counts().plot(kind='bar');\n",
        "\n",
        "# We get to see that we have records with less smokers\n",
        "# Don't worry about the size of our graph, \n",
        "# we will get to see how to resize it later on."
      ],
      "execution_count": 0,
      "outputs": [
        {
          "output_type": "display_data",
          "data": {
            "image/png": "[encoded data removed]",
            "text/plain": [
              "<Figure size 800x550 with 1 Axes>"
            ]
          },
          "metadata": {
            "tags": []
          }
        }
      ]
    },
    {
      "cell_type": "code",
      "metadata": {
        "id": "R9Vg9FXO6T_5",
        "colab_type": "code",
        "outputId": "303c6e81-9cd6-4d1e-e9f4-2dd219f41ec5",
        "colab": {
          "base_uri": "https://localhost:8080/",
          "height": 262
        }
      },
      "source": [
        "# We can go further to apply several styles to our plot as shown\n",
        "# ---\n",
        "# \n",
        " \n",
        "# Setting the font size of the text in our visualistion\n",
        "# ---\n",
        "#\n",
        "sns.set(font_scale=0.8)\n",
        "\n",
        "# We now plot our visualisation.\n",
        "# In this example we also include our filtering in our code while\n",
        "# using the plot() method as shown below.\n",
        "# We will come to see how we plot with seaborn below.\n",
        "# ---\n",
        "#\n",
        "df['smoker'].value_counts().plot(kind='bar', figsize=(3, 3), rot=0)\n",
        "\n",
        "\n",
        "# We then set the x axis label and also add spacing from the axis\n",
        "# ---\n",
        "#\n",
        "plt.xlabel(\"Smoker\", labelpad=14)\n",
        "\n",
        "# We then also set the y axis label and add spacing from the axis\n",
        "# ---\n",
        "#\n",
        "plt.ylabel(\"Count of People\", labelpad=14)\n",
        "\n",
        "# We also set the title of our plot and adjust the space \n",
        "# between the plot and the font size.\n",
        "# ---\n",
        "#\n",
        "plt.title(\"Count of People Who Received Tips by Smokers\", y = 1.05, fontsize = 10);\n",
        "\n",
        "# You can style the plot in whatever way you'd like. Unfortunately we won't go through\n",
        "# that due to time constraints. You can refer to the Matpotlib documentation if you\n",
        "# would like to perform any other styling: https://matplotlib.org/"
      ],
      "execution_count": 0,
      "outputs": [
        {
          "output_type": "display_data",
          "data": {
            "image/png": "[encoded data removed]",
            "text/plain": [
              "<Figure size 216x216 with 1 Axes>"
            ]
          },
          "metadata": {
            "tags": []
          }
        }
      ]
    },
    {
      "cell_type": "code",
      "metadata": {
        "id": "h-tm_IQoAl-b",
        "colab_type": "code",
        "outputId": "c13832a1-bb99-492a-8a75-d735b373afc7",
        "colab": {
          "base_uri": "https://localhost:8080/",
          "height": 256
        }
      },
      "source": [
        "# We can also further plot a horizontal bar plot as shown. \n",
        "# We use the value 'barh' for the kind parameter.\n",
        "# We also add come color to our bars by using the color parameter,\n",
        "# and edgecolor='blue'\n",
        "# ---\n",
        "# \n",
        "df['smoker'].value_counts().plot(kind='barh', figsize=(6, 3), color=['green', 'orange'])\n",
        "plt.xlabel(\"Count of Tips Received\", labelpad=14)\n",
        "plt.ylabel(\"Smoker\", labelpad=14)\n",
        "plt.title(\"Count of Tips by Smoker\", y=1.02)\n",
        "plt.show()"
      ],
      "execution_count": 0,
      "outputs": [
        {
          "output_type": "display_data",
          "data": {
            "image/png": "[encoded data removed]",
            "text/plain": [
              "<Figure size 432x216 with 1 Axes>"
            ]
          },
          "metadata": {
            "tags": []
          }
        }
      ]
    },
    {
      "cell_type": "code",
      "metadata": {
        "id": "rEONG4eOr2tW",
        "colab_type": "code",
        "outputId": "e5a7582b-ea07-4244-abff-86c370ac33bc",
        "colab": {
          "base_uri": "https://localhost:8080/",
          "height": 314
        }
      },
      "source": [
        "# Example 2: Histograms\n",
        "# ---\n",
        "# An histogram is an accurate graphical representation of the distribution of numerical data.\n",
        "# A histogram normally contains numerical values are grouped into bins.\n",
        "# - We can create a histogram with seaborn using the distplot() method.\n",
        "# - We don't want to plot the kernel density estimate which will provide \n",
        "#   us with the shape of the distribution if true, so we set it as False.\n",
        "# - We can also specify our histogram range through the use of the \n",
        "#   hist_kws parameter as shown below.\n",
        "# We will use seaborn to plot our histogram this time.\n",
        "# ---\n",
        "# \n",
        "sns.distplot(df['total_bill'], kde = False, color='blue', hist_kws={\"range\": [0, 100]})\n",
        "plt.xlabel(\"Total Bill\", labelpad=14)\n",
        "plt.ylabel(\"Frequency\", labelpad=14)\n",
        "plt.title(\"Histogram of Total Bill (in Dollars)\", fontsize=14, y=1.01) \n",
        "plt.show()\n",
        "\n",
        "# From the histogram below we can observe that the highest occurence\n",
        "# of the amount spent is between 15 and 20."
      ],
      "execution_count": 0,
      "outputs": [
        {
          "output_type": "display_data",
          "data": {
            "image/png": "[encoded data removed]",
            "text/plain": [
              "<Figure size 432x288 with 1 Axes>"
            ]
          },
          "metadata": {
            "tags": []
          }
        }
      ]
    },
    {
      "cell_type": "code",
      "metadata": {
        "id": "6HQFasGhLlwa",
        "colab_type": "code",
        "outputId": "b8fd7251-8196-4e70-a93a-e4c9c74556e9",
        "colab": {
          "base_uri": "https://localhost:8080/",
          "height": 314
        }
      },
      "source": [
        "# In the above histogram we showned the frequency values on the y-axis. \n",
        "# However, we can also create another version of a histogram that illustrates \n",
        "# relative frequiencies on the y-axis - The Relative Frequency Histogram. \n",
        "# This would be helpful for visualisaing the proportion of values in a certain range. \n",
        "# We do this by using the norm_hist parameter and setting it to true which shows \n",
        "# a density rather than a count on the y-axis.\n",
        "# Note: We have use hex code for our color: You can get any hex code for your color \n",
        "# of preference here: https://htmlcolorcodes.com/. \n",
        "# ---\n",
        "# \n",
        "sns.distplot(df['total_bill'], bins=27, kde=False, norm_hist=True, color='#339FFF', hist_kws={\"range\": [0, 91]})\n",
        "plt.xlabel(\"Total Bill\", labelpad=14)\n",
        "plt.ylabel(\"Relative Frequency\", labelpad=14)\n",
        "plt.title(\"Relative Frequency Histogram of Total Bill (in Dollars)\", fontsize=14, y=1.01) \n",
        "plt.show()\n",
        "\n",
        "# From the below histogram, we note that in the total bill between 0 and 20, there are 6 bars, \n",
        "# each bar covers an amout of 3.3 dollars. \n",
        "# We can say that approximately a proportion of 0.002 of persons spend 3.3 dollars."
      ],
      "execution_count": 0,
      "outputs": [
        {
          "output_type": "display_data",
          "data": {
            "image/png": "[encoded data removed]",
            "text/plain": [
              "<Figure size 432x288 with 1 Axes>"
            ]
          },
          "metadata": {
            "tags": []
          }
        }
      ]
    },
    {
      "cell_type": "code",
      "metadata": {
        "id": "kuN1j2r5r9la",
        "colab_type": "code",
        "outputId": "e075dc92-68f5-485b-da55-090b862d7780",
        "colab": {
          "base_uri": "https://localhost:8080/",
          "height": 197
        }
      },
      "source": [
        "# Box Plot\n",
        "# ---\n",
        "# Box plots help visualize the distribution of quantitative values in a variable.\n",
        "# They are commonly used to visualize outliers in our dataset.\n",
        "# ---\n",
        "# \n",
        "\n",
        "# Reading our dataset\n",
        "# ---\n",
        "# Each record represents health/exercise metrics for individuals\n",
        "# \n",
        "df_exercise = pd.read_csv('https://bit.ly/ExerciseDS')\n",
        "df_exercise.head()"
      ],
      "execution_count": 0,
      "outputs": [
        {
          "output_type": "execute_result",
          "data": {
            "text/html": [
              "<div>\n",
              "<style scoped>\n",
              "    .dataframe tbody tr th:only-of-type {\n",
              "        vertical-align: middle;\n",
              "    }\n",
              "\n",
              "    .dataframe tbody tr th {\n",
              "        vertical-align: top;\n",
              "    }\n",
              "\n",
              "    .dataframe thead th {\n",
              "        text-align: right;\n",
              "    }\n",
              "</style>\n",
              "<table border=\"1\" class=\"dataframe\">\n",
              "  <thead>\n",
              "    <tr style=\"text-align: right;\">\n",
              "      <th></th>\n",
              "      <th>Unnamed: 0</th>\n",
              "      <th>id</th>\n",
              "      <th>diet</th>\n",
              "      <th>pulse</th>\n",
              "      <th>time</th>\n",
              "      <th>kind</th>\n",
              "    </tr>\n",
              "  </thead>\n",
              "  <tbody>\n",
              "    <tr>\n",
              "      <th>0</th>\n",
              "      <td>0</td>\n",
              "      <td>1</td>\n",
              "      <td>low fat</td>\n",
              "      <td>85</td>\n",
              "      <td>1 min</td>\n",
              "      <td>rest</td>\n",
              "    </tr>\n",
              "    <tr>\n",
              "      <th>1</th>\n",
              "      <td>1</td>\n",
              "      <td>1</td>\n",
              "      <td>low fat</td>\n",
              "      <td>85</td>\n",
              "      <td>15 min</td>\n",
              "      <td>rest</td>\n",
              "    </tr>\n",
              "    <tr>\n",
              "      <th>2</th>\n",
              "      <td>2</td>\n",
              "      <td>1</td>\n",
              "      <td>low fat</td>\n",
              "      <td>88</td>\n",
              "      <td>30 min</td>\n",
              "      <td>rest</td>\n",
              "    </tr>\n",
              "    <tr>\n",
              "      <th>3</th>\n",
              "      <td>3</td>\n",
              "      <td>2</td>\n",
              "      <td>low fat</td>\n",
              "      <td>90</td>\n",
              "      <td>1 min</td>\n",
              "      <td>rest</td>\n",
              "    </tr>\n",
              "    <tr>\n",
              "      <th>4</th>\n",
              "      <td>4</td>\n",
              "      <td>2</td>\n",
              "      <td>low fat</td>\n",
              "      <td>92</td>\n",
              "      <td>15 min</td>\n",
              "      <td>rest</td>\n",
              "    </tr>\n",
              "  </tbody>\n",
              "</table>\n",
              "</div>"
            ],
            "text/plain": [
              "   Unnamed: 0  id     diet  pulse    time  kind\n",
              "0           0   1  low fat     85   1 min  rest\n",
              "1           1   1  low fat     85  15 min  rest\n",
              "2           2   1  low fat     88  30 min  rest\n",
              "3           3   2  low fat     90   1 min  rest\n",
              "4           4   2  low fat     92  15 min  rest"
            ]
          },
          "metadata": {
            "tags": []
          },
          "execution_count": 17
        }
      ]
    },
    {
      "cell_type": "code",
      "metadata": {
        "id": "K7sQtSBnwhiQ",
        "colab_type": "code",
        "outputId": "91612a7d-905a-4fde-ae35-235e361c42dd",
        "colab": {
          "base_uri": "https://localhost:8080/",
          "height": 34
        }
      },
      "source": [
        "# Checking for the unique values in the kind feature\n",
        "# ---\n",
        "# \n",
        "df_exercise['kind'].unique()"
      ],
      "execution_count": 0,
      "outputs": [
        {
          "output_type": "execute_result",
          "data": {
            "text/plain": [
              "array(['rest', 'walking', 'running'], dtype=object)"
            ]
          },
          "metadata": {
            "tags": []
          },
          "execution_count": 18
        }
      ]
    },
    {
      "cell_type": "code",
      "metadata": {
        "id": "zb2UK5UBv0bo",
        "colab_type": "code",
        "outputId": "45f3ffca-d505-4244-a190-40d58b45290e",
        "colab": {
          "base_uri": "https://localhost:8080/",
          "height": 201
        }
      },
      "source": [
        "# We will can now plot a box plot for pulse values where feature\n",
        "# kind = running\n",
        "\n",
        "plt.figure(figsize=(5,2))\n",
        "\n",
        "# Seaborn also allows us to use a theme/appearance for our visualisations\n",
        "# This is how we set a theme. Seaborn has 5 themes that we can use \n",
        "# i.e. darkgrid , whitegrid , dark , white , and ticks\n",
        "# ----\n",
        "sns.set_style('ticks')\n",
        "\n",
        "\n",
        "sns.boxplot(x=df_exercise[df_exercise['kind']=='running']['pulse']) \n",
        "plt.title(\"Box Plot of People's Running Heart Rate\", fontsize=10, y=1.01) \n",
        "plt.xlabel(\"Pulse (beats per minute)\", labelpad=14)\n",
        "plt.show()\n",
        "\n",
        "# From the plot, we can see that;\n",
        "# - The median heart rate is 110 beats per minute.\n",
        "# - The minimum recorded running heart rate is 87 beats per minute.\n",
        "# - The maximum recorded running heart reate is 150 beats per minute. \n",
        "# - 75% of people recorded a running heart rate above 98 beats per minute. \n",
        "# - 75% of people recorded a running heart rate above 98 beats per minute. \n",
        "# - 25% of people recorded a running heart rate above 126 beats per minute.\n",
        "# - We don't have any values outside our box, thus there aren't any outliers\n",
        "#   If we had outliers, they would be shown in our box plot."
      ],
      "execution_count": 0,
      "outputs": [
        {
          "output_type": "display_data",
          "data": {
            "image/png": "[encoded data removed]",
            "text/plain": [
              "<Figure size 360x144 with 1 Axes>"
            ]
          },
          "metadata": {
            "tags": []
          }
        }
      ]
    },
    {
      "cell_type": "code",
      "metadata": {
        "id": "i7_WkojIzkax",
        "colab_type": "code",
        "colab": {}
      },
      "source": [
        "# The above numerical values of our box plot can be printed as shown\n",
        "# using the describe method()\n",
        "# ---\n",
        "# \n",
        "df_exercise[df_exercise['kind']=='running']['pulse'].describe()"
      ],
      "execution_count": 0,
      "outputs": []
    },
    {
      "cell_type": "code",
      "metadata": {
        "id": "M_6DGXSR0B2-",
        "colab_type": "code",
        "colab": {}
      },
      "source": [
        "# We can also perform a box plot comparison of pulse rate as shown\n",
        "# ---\n",
        "# \n",
        "plt.figure(figsize=(5, 3))\n",
        "sns.boxplot(x='kind', y='pulse', data = df_exercise, saturation=0.65) \n",
        "plt.title(\"Box Plot of People's Heart Rate by Kind of Activity\", fontsize=10, y=1.01) \n",
        "plt.ylabel(\"Pulse [beats per minute]\", labelpad=14)\n",
        "plt.xlabel(\"Activity\", labelpad=14)\n",
        "plt.show()\n",
        "\n",
        "# From the plot, we can see that the median heart rate increases \n",
        "# as the activity changes from rest, to walking to running.\n",
        "# The distribution for those running varies much more than the distributions \n",
        "# for those walking and resting. \n",
        "# The maximum heart rate recorded is 150 beats per minute \n",
        "# while the minimum heart rate recorded is 80."
      ],
      "execution_count": 0,
      "outputs": []
    },
    {
      "cell_type": "code",
      "metadata": {
        "id": "AALswFGQr_BP",
        "colab_type": "code",
        "outputId": "8cdf6a01-7efd-46a3-a75c-962d7a00b6f9",
        "colab": {
          "base_uri": "https://localhost:8080/",
          "height": 294
        }
      },
      "source": [
        "# Pie Chart \n",
        "# ---\n",
        "# We can also plot a pie chart to get a break down on the kinds of activities\n",
        "# ---\n",
        "# \n",
        "\n",
        "# Setting the size of our pie chart\n",
        "plt.figure(figsize=(5,5))\n",
        "\n",
        "# Creating a list of colors to use in the pie chart\n",
        "colors = [\"#E13F29\", \"#D69A80\", \"#D63B59\"]\n",
        " \n",
        "\n",
        "# Let's create a list with the following the no. of students\n",
        "# Alternatively we can always have a summarized table and we \n",
        "# would refer to the appropriate feature.\n",
        "# ---\n",
        "#  \n",
        "students = [120, 500, 700]\n",
        "\n",
        "# We will also create the labels. Again, in a dataset we would \n",
        "# refer to a label feature in summarized table.\n",
        "# ---\n",
        "# \n",
        "student_labels = ['Engineering','Business Management','Physics']\n",
        "\n",
        "# We use autopct to view the percent listed as a fraction\n",
        "# Also use explode to highlight one segment.\n",
        "# ---\n",
        "#\n",
        "plt.pie(students, labels = student_labels, autopct='%1.1f%%', startangle=90, colors=colors, explode=(0.15, 0,0))\n",
        "\n",
        "# Title of our pie chart \n",
        "plt.title('Pie Chart of Students')\n",
        "\n",
        "# We use this kind of layout \n",
        "plt.tight_layout()\n",
        "\n",
        "# Then showing it\n",
        "plt.show()"
      ],
      "execution_count": 0,
      "outputs": [
        {
          "output_type": "display_data",
          "data": {
            "image/png": "[encoded data removed]",
            "text/plain": [
              "<Figure size 360x360 with 1 Axes>"
            ]
          },
          "metadata": {
            "tags": []
          }
        }
      ]
    },
    {
      "cell_type": "code",
      "metadata": {
        "id": "1lmexqNjsBgl",
        "colab_type": "code",
        "colab": {}
      },
      "source": [
        "# Line Graph\n",
        "# ---\n",
        "# Dataset url = https://bit.ly/CovidCountDS\n",
        "# ---\n",
        "# \n",
        "\n",
        "# Reading our dataset \n",
        "# ---\n",
        "#\n",
        "df_covid = pd.read_csv('https://bit.ly/CovidCountDS')\n",
        "df_covid.head()\n"
      ],
      "execution_count": 0,
      "outputs": []
    },
    {
      "cell_type": "code",
      "metadata": {
        "id": "bZDyQ_J6ZYUk",
        "colab_type": "code",
        "colab": {}
      },
      "source": [
        "# Creating the line graph\n",
        "# ---\n",
        "# \n",
        "df_covid.set_index(df_covid['month']).plot(kind = 'line', figsize = (8, 3), grid = True)\n",
        "plt.title(\"Historical Monthly Covid Count (Thousands) for Country A and B\", fontsize = 10, y = 1.01)\n",
        "plt.xlabel(\"Month\", fontsize = 10, labelpad = 15)\n",
        "plt.ylabel(\"No. of cases\", fontsize=10, labelpad = 15)\n",
        "plt.legend(fontsize=13);\n",
        "plt.show()  \n",
        "\n",
        "# From the graph we can see that country b experienced the most no. of cases\n",
        "# for every month throughout the year. "
      ],
      "execution_count": 0,
      "outputs": []
    },
    {
      "cell_type": "markdown",
      "metadata": {
        "colab_type": "text",
        "id": "K-lKtB-PrTwe"
      },
      "source": [
        "### <font color=\"green\">Challenges</font>"
      ]
    },
    {
      "cell_type": "code",
      "metadata": {
        "colab_type": "code",
        "id": "c4Q7LF0KrTwf",
        "colab": {}
      },
      "source": [
        "# Challenge 1\n",
        "# ---\n",
        "# Study the ebola cases in west africa in 2014 given the following dataset\n",
        "# through the use of a histogram.\n",
        "# ---\n",
        "# Dataset url = https://bit.ly/2T60DKG\n",
        "# ---\n",
        "# OUR CODE GOES BELOW\n",
        "# "
      ],
      "execution_count": 0,
      "outputs": []
    },
    {
      "cell_type": "code",
      "metadata": {
        "id": "QhF7qT4nPRv0",
        "colab_type": "code",
        "colab": {}
      },
      "source": [
        "# Challenge 2\n",
        "# ---\n",
        "# You own a supermarket mall and through membership cards, \n",
        "# you have some basic data about your customers like \n",
        "# Customer ID, age, gender, annual income and spending score. \n",
        "# What is the age distribution of your customers.\n",
        "# ---\n",
        "# Dataset url = https://bit.ly/2WtrItx\n",
        "# ---\n",
        "# OUR CODE GOES BELOW\n",
        "# "
      ],
      "execution_count": 0,
      "outputs": []
    },
    {
      "cell_type": "code",
      "metadata": {
        "id": "HM0ufknvPTC7",
        "colab_type": "code",
        "colab": {}
      },
      "source": [
        "# Challenge 3\n",
        "# ---\n",
        "# Still, as a data scientist working for a bank, you have been given the \n",
        "# task to identify genuine and counterfeit banknotes. \n",
        "# Use the following bank notes dataset to find the counterfeit outliers. \n",
        "# ---\n",
        "# Dataset url = https://bit.ly/2yT9oAU\n",
        "# ---\n",
        "#"
      ],
      "execution_count": 0,
      "outputs": []
    },
    {
      "cell_type": "code",
      "metadata": {
        "id": "jB1NYY-Ve_AO",
        "colab_type": "code",
        "colab": {}
      },
      "source": [
        "# Challenge 4\n",
        "# ---\n",
        "# Visualise the cases in West African cases using the given dataset. \n",
        "# Highlight the country with the most cases.\n",
        "# ---\n",
        "# Dataset url = https://bit.ly/2T60DKG\n",
        "# ---\n",
        "# OUR CODE GOES BELOW\n",
        "# "
      ],
      "execution_count": 0,
      "outputs": []
    },
    {
      "cell_type": "code",
      "metadata": {
        "id": "tDSAnw16nhMD",
        "colab_type": "code",
        "colab": {}
      },
      "source": [
        "# Challenge 5\n",
        "# ---\n",
        "# Using the given dataset, study the pattern on covid cases in your country of residence.\n",
        "# ---\n",
        "# Dataset url = https://bit.ly/35Xa04I\n",
        "# ---\n",
        "# OUR CODE GOES BELOW\n",
        "# "
      ],
      "execution_count": 0,
      "outputs": []
    },
    {
      "cell_type": "markdown",
      "metadata": {
        "id": "gvEzuuWwikYM",
        "colab_type": "text"
      },
      "source": [
        "## 3. Specific Visualisation Tools"
      ]
    },
    {
      "cell_type": "markdown",
      "metadata": {
        "id": "A_uo6vT2m1YO",
        "colab_type": "text"
      },
      "source": [
        "### <font color=\"blue\">Examples</font>"
      ]
    },
    {
      "cell_type": "code",
      "metadata": {
        "id": "j3oUTUu_mVyG",
        "colab_type": "code",
        "colab": {}
      },
      "source": [
        "# Violin Plots\n",
        "# ---\n",
        "# A violin plot helps us to visualize the distribution of numerical data of different variables. \n",
        "# It is similar to the box plot but provides more information about the density estimate on the y-axis.\n",
        "# They are often used to compare the distribution of a given variable across some categories.\n",
        "# A few things to note:\n",
        "# 1. The white dot in the violin plot is the median. \n",
        "# 2. The black bar in the center of the violin is the interquartile range \n",
        "#    with the bottom end marking the first quartile and top end marking the third quartile point. \n",
        "# 3. In some other cases, violin plots are also useful in comparing several variables.  \n",
        "# ---\n",
        "# \n",
        "\n",
        "# Reading our dataset \n",
        "# ---\n",
        "#\n",
        "df = pd.read_csv(\"http://bit.ly/IrisDataset\") \n",
        "df.head()"
      ],
      "execution_count": 0,
      "outputs": []
    },
    {
      "cell_type": "code",
      "metadata": {
        "id": "NfdAy_68vIio",
        "colab_type": "code",
        "colab": {}
      },
      "source": [
        "# We can make a box plot to study one variable as shown below\n",
        "# ---\n",
        "# \n",
        "plt.figure(figsize=(5,5))\n",
        "sns.violinplot(y=df[\"sepal_length\"])\n",
        "plt.show()\n",
        " \n",
        "# From the plot, we can see we have a higher density between 5 and 6.2"
      ],
      "execution_count": 0,
      "outputs": []
    },
    {
      "cell_type": "code",
      "metadata": {
        "id": "q48Y4M2Ku1Iu",
        "colab_type": "code",
        "colab": {}
      },
      "source": [
        "# We can compare the distribution the values of the groups in our a categorical variable \n",
        "# found within our dataset as shown.\n",
        "# \n",
        "plt.figure(figsize=(5,4))\n",
        "sns.violinplot(x=df[\"species\"], y=df[\"sepal_length\"] )\n",
        "plt.show()\n",
        "\n",
        "# This tells us that the density of the different species varies in respect to sepal length."
      ],
      "execution_count": 0,
      "outputs": []
    },
    {
      "cell_type": "code",
      "metadata": {
        "id": "KO12wML_sMfB",
        "colab_type": "code",
        "colab": {}
      },
      "source": [
        "# Heat Maps\n",
        "# ---\n",
        "# We use heatmaps to visualize table-like data with variations in coloring.\n",
        "# Heat maps are most commonly used in visualising correlation tables however,\n",
        "# they can also be used to visualize any other tabular numerical data.  \n",
        "# ---\n",
        "# \n",
        "\n",
        "# We will demonstrate the use of heat maps by visualising a correlation \n",
        "# table shown below. Something to note about correlation, \n",
        "# is that the variables correlate with each other from a scale of 1 to -1 \n",
        "# with 1 being positvely strongly correlated, -1 being negatively correlated \n",
        "# and 0 not correlated at all. Don't worry about correlation so much during this time, \n",
        "# we will cover it well in Module II.\n",
        "# ---\n",
        "# \n",
        "\n",
        "# First we get the correlation values using the corr() method\n",
        "# ---\n",
        "# \n",
        "df_corr = df.corr()\n",
        "df_corr\n",
        "# We can see that petal_length and sepal_length have a high correlation "
      ],
      "execution_count": 0,
      "outputs": []
    },
    {
      "cell_type": "code",
      "metadata": {
        "id": "-twVVBASBino",
        "colab_type": "code",
        "colab": {}
      },
      "source": [
        "# Let's visualise our correlation table\n",
        "# ---\n",
        "# \n",
        "\n",
        "# The following line will enlargen our visualisation.\n",
        "# We can adjust the values to see what happens.\n",
        "# ---\n",
        "# \n",
        "plt.figure(figsize=(5,4))\n",
        "\n",
        "# We then plot our heatmap\n",
        "# ---\n",
        "#\n",
        "sns.heatmap(df_corr)\n",
        "plt.show()\n",
        "\n",
        "# From the plot, values which have a high positive correlation \n",
        "# are shown to have a ligher shade than other variables."
      ],
      "execution_count": 0,
      "outputs": []
    },
    {
      "cell_type": "code",
      "metadata": {
        "id": "aPFDDHOOETzm",
        "colab_type": "code",
        "colab": {}
      },
      "source": [
        "# Lets get a better understanding by annotating our visualisation\n",
        "# We simply want to see the numbers in our visualisation.\n",
        "# We also add lines between the cells and change the color \n",
        "# of our plot as well. For more colors palettes we can visit: \n",
        "# https://seaborn.pydata.org/tutorial/color_palettes.html\n",
        "# ---\n",
        "# \n",
        "plt.figure(figsize=(5,5))\n",
        "sns.heatmap(df_corr, annot=True, linewidth=0.5, cmap='coolwarm')\n",
        "plt.show()"
      ],
      "execution_count": 0,
      "outputs": []
    },
    {
      "cell_type": "markdown",
      "metadata": {
        "colab_type": "text",
        "id": "rP9VGEsFrUdp"
      },
      "source": [
        "### <font color=\"green\">Challenges</font>"
      ]
    },
    {
      "cell_type": "code",
      "metadata": {
        "colab_type": "code",
        "id": "GTNbWDykrUdr",
        "colab": {}
      },
      "source": [
        "# Challenge 1\n",
        "# ---\n",
        "# Still, as a data scientist working for a bank, you have been given the \n",
        "# task to identify genuine and counterfeit banknotes. \n",
        "# Use violin plots on following bank notes dataset to find out \n",
        "# whether there are counterfeit bank notes. \n",
        "# ---\n",
        "# Dataset url = https://bit.ly/2yT9oAU\n",
        "# ---\n",
        "#"
      ],
      "execution_count": 0,
      "outputs": []
    },
    {
      "cell_type": "code",
      "metadata": {
        "id": "0-wVxRxUFmw4",
        "colab_type": "code",
        "colab": {}
      },
      "source": [
        "# Challenge 2\n",
        "# ---\n",
        "# You work for a real estate firm as a Data Analyst and are required to \n",
        "# study the relationships between the given features and the prices of houses\n",
        "# and record your observations.\n",
        "# ---\n",
        "# Dataset url = https://bit.ly/3dKa9LE\n",
        "# ---\n",
        "#"
      ],
      "execution_count": 0,
      "outputs": []
    },
    {
      "cell_type": "markdown",
      "metadata": {
        "id": "VjE2aB8imh51",
        "colab_type": "text"
      },
      "source": [
        "## 4. Specific Visualization Tools II\n",
        " "
      ]
    },
    {
      "cell_type": "markdown",
      "metadata": {
        "id": "OnyYj9DNm2Wb",
        "colab_type": "text"
      },
      "source": [
        "### <font color=\"blue\">Examples</font>"
      ]
    },
    {
      "cell_type": "code",
      "metadata": {
        "id": "VLFERGkLmn5x",
        "colab_type": "code",
        "colab": {}
      },
      "source": [
        "# Scatter Plot\n",
        "# ---\n",
        "# Scatter plots are used to plot data points on horizontal and vertical axis \n",
        "# in the attempt to show how much one variable is affected by another.\n",
        "# Scatter plots have the capability to render a different size and/or color for each point.\n",
        "# ---\n",
        "# In the example below we will plot a scatter plot of petal_width vs petal_length\n",
        "\n",
        "# Reading our dataset \n",
        "# ---\n",
        "df = pd.read_csv(\"http://bit.ly/IrisDataset\") \n",
        "df.head()"
      ],
      "execution_count": 0,
      "outputs": []
    },
    {
      "cell_type": "code",
      "metadata": {
        "id": "CJbEGmBDCuPB",
        "colab_type": "code",
        "colab": {}
      },
      "source": [
        "# We can set the style of our scatterplot as shown\n",
        "# ---\n",
        "# \n",
        "sns.set_style(\"ticks\")\n",
        "\n",
        "# Then creating our scatterplot using the lmplot method provided by seaborn.\n",
        "# We could also achieve a scatterplot through the use of matplotlib only.\n",
        "# However we will focus on using seaborn for this example.\n",
        "# A scatterplot allows us to examine the relationship between two variables \n",
        "# as shown where we even decide to draw a line of best fit.\n",
        "# ---\n",
        "#\n",
        "sns.scatterplot(x=\"petal_width\", y=\"petal_length\", data = df) \n",
        "plt.title('Scatter plot of Petal width vs Petal Length') \n",
        "plt.xlabel('Petal Width') \n",
        "plt.ylabel('Petal Length'); \n",
        "\n",
        "# Our observation is that there is a positive linear correlation between the two variables.\n",
        "# As the value of one variable increases, the other variable increases as well."
      ],
      "execution_count": 0,
      "outputs": []
    },
    {
      "cell_type": "code",
      "metadata": {
        "id": "zEx_6rCosW0a",
        "colab_type": "code",
        "colab": {}
      },
      "source": [
        "# Bubble Plot\n",
        "# ---\n",
        "# A bubble plot is a scatterplot with a third dimension. This third dimension\n",
        "# is the value of an additional numeric variable is represented through the size of the dots. \n",
        "# ---\n",
        "# \n",
        "\n",
        "# This time we will use a different dataset and we want to examine the relationship \n",
        "# between preScore and postScore. Let's load the dataset.\n",
        "# ---\n",
        "# \n",
        "prescore_df = pd.read_csv('https://bit.ly/PrescoreDS');\n",
        "prescore_df.head()"
      ],
      "execution_count": 0,
      "outputs": []
    },
    {
      "cell_type": "code",
      "metadata": {
        "id": "Z2esveVoleW2",
        "colab_type": "code",
        "colab": {}
      },
      "source": [
        "# We plot the scatterplot, using size = age to be the third dimension.\n",
        "# Additionaly also use hue to give our dots some color and meaning. \n",
        "# ---\n",
        "# \n",
        "sns.scatterplot(x=\"preScore\", y=\"postScore\", hue=\"age\", size=\"age\", data=prescore_df)\n",
        "plt.show()"
      ],
      "execution_count": 0,
      "outputs": []
    },
    {
      "cell_type": "code",
      "metadata": {
        "id": "Cyao5yUysWuT",
        "colab_type": "code",
        "colab": {}
      },
      "source": [
        "# Pair plot\n",
        "# ---\n",
        "# Another visualisation is a pair plot which would allow us to see both \n",
        "# the distribution of single variables and the relationships between two variables.\n",
        "# It provides us with both scatterplots and histograms.\n",
        "# ---\n",
        "#\n",
        "\n",
        "# Plotting our pairplot\n",
        "# ---\n",
        "#  \n",
        "sns.pairplot(df)  \n",
        "plt.show() "
      ],
      "execution_count": 0,
      "outputs": []
    },
    {
      "cell_type": "code",
      "metadata": {
        "id": "cLWSydKFsI20",
        "colab_type": "code",
        "colab": {}
      },
      "source": [
        "# While plotting a pairplot we can also clearly define the shape \n",
        "# of our distribution by setting diag_kind = \"kde\"\n",
        "# ---\n",
        "#  \n",
        "sns.set_style(\"ticks\")\n",
        "sns.pairplot(df, diag_kind = \"kde\")  \n",
        "plt.show() "
      ],
      "execution_count": 0,
      "outputs": []
    },
    {
      "cell_type": "markdown",
      "metadata": {
        "colab_type": "text",
        "id": "1cQqJ1XfrVX7"
      },
      "source": [
        "### <font color=\"green\">Challenges</font>"
      ]
    },
    {
      "cell_type": "code",
      "metadata": {
        "colab_type": "code",
        "id": "e83wIWGIrVX9",
        "colab": {}
      },
      "source": [
        "# Challenge 1\n",
        "# ---\n",
        "# Given the following dataset that contains expenses of R&D, administration, marketing spend, state, \n",
        "# and profit for 50 startups, you have been tasked to help a venture capital firm determine \n",
        "# whether they should invest in new startups. \n",
        "# Create a scatter plot to determine whether there is a positive linear correlation \n",
        "# between marketing and profit.\n",
        "# ---\n",
        "# Dataset url = https://bit.ly/2WRnECg\n",
        "# ---\n",
        "# OUR CODE GOES BELOW\n",
        "# "
      ],
      "execution_count": 0,
      "outputs": []
    },
    {
      "cell_type": "code",
      "metadata": {
        "id": "gRHrNZ44rhLo",
        "colab_type": "code",
        "colab": {}
      },
      "source": [
        "# Challenge 2\n",
        "# ---\n",
        "# You a researcher trying to understand demographical and geographical factors \n",
        "# of African countries given the following dataset. \n",
        "# Create a bubble chart to visualisate relationships given the following dataset.\n",
        "# ---\n",
        "# Dataset url = https://bit.ly/2WuCHmn\n",
        "# ---\n",
        "# OUR CODE GOES BELOW\n",
        "# "
      ],
      "execution_count": 0,
      "outputs": []
    },
    {
      "cell_type": "code",
      "metadata": {
        "id": "maUMKSezrhvf",
        "colab_type": "code",
        "colab": {}
      },
      "source": [
        "# Challenge 3\n",
        "# ---\n",
        "# You have been given a dataset that contains 7 common different fish species in fish market sales. \n",
        "# With this dataset, a predictive model can be performed using machine friendly data \n",
        "# and estimate the weight of fish can be predicted. Use a pair plot to study the relationships and \n",
        "# distributions of the given variables. Record your observations.\n",
        "# ---\n",
        "# Dataset url = https://bit.ly/3fJ5482\n",
        "# --\n",
        "# OUR CODE GOES BELOW\n",
        "# "
      ],
      "execution_count": 0,
      "outputs": []
    },
    {
      "cell_type": "markdown",
      "metadata": {
        "id": "pA1T-xjgmXI_",
        "colab_type": "text"
      },
      "source": [
        "## 5. Advanced Visualization Tools\n",
        " "
      ]
    },
    {
      "cell_type": "markdown",
      "metadata": {
        "colab_type": "text",
        "id": "pUk1IjWarMoF"
      },
      "source": [
        "### <font color=\"blue\">Examples</font>"
      ]
    },
    {
      "cell_type": "code",
      "metadata": {
        "id": "aPHN2NOLunuN",
        "colab_type": "code",
        "colab": {}
      },
      "source": [
        "# Regression Plots\n",
        "# ---\n",
        "# Regression plots create a regression line between 2 variables \n",
        "# and helps to visualize whether they exhibit linear relationships. \n",
        "# ---\n",
        "# \n",
        "\n",
        "# Let us plot a regression plot below using the iris dataset \n",
        "# ---\n",
        "#  \n",
        "# Reading our dataset \n",
        "# ---\n",
        "df = pd.read_csv(\"http://bit.ly/IrisDataset\") \n",
        "df.head()"
      ],
      "execution_count": 0,
      "outputs": []
    },
    {
      "cell_type": "code",
      "metadata": {
        "id": "ye_4guCnzjbs",
        "colab_type": "code",
        "colab": {}
      },
      "source": [
        "# Creating our regression plot \n",
        "# ---\n",
        "#\n",
        "sns.lmplot(x=\"petal_width\", y=\"petal_length\", data = df) \n",
        "plt.title('Scatter plot of Petal width vs Petal Length') \n",
        "plt.xlabel('Petal Width') \n",
        "plt.ylabel('Petal Length');\n",
        "\n",
        "# From our observation below we can see that the two variables\n",
        "# exhibit a positive linear relationship."
      ],
      "execution_count": 0,
      "outputs": []
    },
    {
      "cell_type": "code",
      "metadata": {
        "id": "ZMaTtQ_Yup3b",
        "colab_type": "code",
        "colab": {}
      },
      "source": [
        "# Time Series \n",
        "# ---\n",
        "# A time series is a series of data points graphed in time order.\n",
        "# Lets plot a timeseries to examine the variables in our dataset.\n",
        "# ---\n",
        "# Dataset url = https://bit.ly/DSAirlinePassengers\n",
        "# \n",
        "\n",
        "# Reading our dataset\n",
        "# ---\n",
        "# \n",
        "airline_df = pd.read_csv('https://bit.ly/DSAirlinePassengers')\n",
        "airline_df_1949 = airline_df.head(12)\n",
        "airline_df_1949"
      ],
      "execution_count": 0,
      "outputs": []
    },
    {
      "cell_type": "code",
      "metadata": {
        "id": "Ao6LMtGo2m6d",
        "colab_type": "code",
        "colab": {}
      },
      "source": [
        "# Plotting a timeseries plot for the year 1949 \n",
        "# ---\n",
        "#\n",
        "plt.subplots(figsize=(10,6))   \n",
        "sns.lineplot(x=\"month\", y=\"passengers_in_thousands\", data=airline_df_1949)\n",
        "plt.title('Time series of Airline Passengers during the year 1949') \n",
        "plt.xlabel('Months') \n",
        "plt.ylabel('Airline Passengers in Thousands')  \n",
        "plt.xticks(rotation=45);"
      ],
      "execution_count": 0,
      "outputs": []
    },
    {
      "cell_type": "markdown",
      "metadata": {
        "colab_type": "text",
        "id": "B97yD-23rV9i"
      },
      "source": [
        "### <font color=\"green\">Challenges</font>"
      ]
    },
    {
      "cell_type": "code",
      "metadata": {
        "colab_type": "code",
        "id": "-fxELDsWrV9j",
        "colab": {}
      },
      "source": [
        "# Challenge 1\n",
        "# --- \n",
        "# You have been provided a dataset that contains numerical features (age, bmi, children and expenses) \n",
        "# and 3 nominal features (sex, smoker and region). Determine which features \n",
        "# (age, physical/family condition or location)are highly correlated with the medical expenses response variable. \n",
        "# Your outcome will be used for predicting future medical expenses of individuals by a medical insurance firm. \n",
        "# This will help an insurance firm make a decision on charging the premium.\n",
        "# You will will be required to use regression plots for this challenge.\n",
        "# ---\n",
        "# Dataset url = https://bit.ly/2y5CRYc\n",
        "# ---\n",
        "# OUR CODE GOES BELOW"
      ],
      "execution_count": 0,
      "outputs": []
    },
    {
      "cell_type": "code",
      "metadata": {
        "id": "0r3lrct58FUh",
        "colab_type": "code",
        "colab": {}
      },
      "source": [
        "# Challenge 2\n",
        "# ---\n",
        "# The following dataset contains temperature time series for Rio de Janeiro city.\n",
        "# Temperature records are provided by months. \n",
        "# Plot a time series plot of comparing temparature for the months of June \n",
        "# from the year 2009 - 2019.\n",
        "# ---\n",
        "# Dataset url = https://bit.ly/RioTemperature\n",
        "# The content is provided by NOAA GHCN v4 and post-processed by NASA's GISTEMP v4.\n",
        "# Source: https://bit.ly/2Z3speK\n",
        "# ---\n",
        "# OUR CODE GOES BELOW"
      ],
      "execution_count": 0,
      "outputs": []
    },
    {
      "cell_type": "markdown",
      "metadata": {
        "id": "-8QI23cGmp1c",
        "colab_type": "text"
      },
      "source": [
        "## 6. Advanced Visualization Tools II (Bonus)\n",
        " "
      ]
    },
    {
      "cell_type": "markdown",
      "metadata": {
        "colab_type": "text",
        "id": "rLLyouAjrNqm"
      },
      "source": [
        "### <font color=\"blue\">Examples</font>"
      ]
    },
    {
      "cell_type": "code",
      "metadata": {
        "colab_type": "code",
        "id": "uCFEO9TjrNqn",
        "colab": {}
      },
      "source": [
        "# Waffle Charts\n",
        "# ---\n",
        "# A waffle chart is a kind of like the square version of a pie chart,\n",
        "# where the size of each word represents its frequency or importance.\n",
        "# A waffle is normally created to display progress towards goals.\n",
        "# ---\n",
        "# You can have a look the documentation found here below:\n",
        "# https://readthedocs.org/projects/pywaffle/downloads/pdf/latest/\n",
        "# ---\n",
        "#\n",
        "\n",
        "# We will first need to install and import the Waffle package \n",
        "# ---\n",
        "# \n",
        "!pip install pywaffle\n",
        "from pywaffle import Waffle "
      ],
      "execution_count": 0,
      "outputs": []
    },
    {
      "cell_type": "code",
      "metadata": {
        "id": "INUNSD3FOt59",
        "colab_type": "code",
        "colab": {}
      },
      "source": [
        "# Then create a dataframe to work with. This can be a summary table. \n",
        "# Such a visualisation can be important when working with summary data and very few observations.\n",
        "# ---\n",
        "# \n",
        "data ={'vehicles': ['Mazda', 'Land Cruiser', 'Toyota Corolla', 'Isuzu', 'Mitstubishi'], \n",
        "       'parked': [64, 34, 13, 10, 2] \n",
        "       } \n",
        "       \n",
        "df = pd.DataFrame(data) \n",
        "df"
      ],
      "execution_count": 0,
      "outputs": []
    },
    {
      "cell_type": "code",
      "metadata": {
        "id": "ItWpnia7MXWN",
        "colab_type": "code",
        "colab": {}
      },
      "source": [
        "# Now plotting a waffle chart\n",
        "# We define, the no. of rows, the values to use, \n",
        "# labels, chart size, fontsize and location of our legend.\n",
        "# ---\n",
        "#    \n",
        "plt.figure(FigureClass = Waffle, rows = 6, values = df.parked,   \n",
        "           labels = list(df.vehicles), figsize=(9, 5), font_size=12,\n",
        "           legend = {'loc': 'upper left', 'bbox_to_anchor': (1, 1)});"
      ],
      "execution_count": 0,
      "outputs": []
    },
    {
      "cell_type": "code",
      "metadata": {
        "id": "FiZY9eRuRrlv",
        "colab_type": "code",
        "colab": {}
      },
      "source": [
        "# You can also add icons parameter to get access to icons \n",
        "# which we can use in our visualisation as shown.\n",
        "# Try changing the value to or 'book'\n",
        "# For more icons, you can reference: https://fontawesome.com/icons?d=gallery\n",
        "# ---\n",
        "# \n",
        "plt.figure(FigureClass = Waffle, rows = 6, values = df.parked, icons='car',\n",
        "           labels = list(df.vehicles), figsize=(9, 5), font_size=16,\n",
        "           legend = {'loc': 'upper left', 'bbox_to_anchor': (1, 1)});"
      ],
      "execution_count": 0,
      "outputs": []
    },
    {
      "cell_type": "markdown",
      "metadata": {
        "colab_type": "text",
        "id": "KIW-2ZpcrWmJ"
      },
      "source": [
        "### <font color=\"green\">Challenges</font>"
      ]
    },
    {
      "cell_type": "code",
      "metadata": {
        "colab_type": "code",
        "id": "yuX8ZrhgrWmK",
        "colab": {}
      },
      "source": [
        "# Challenge \n",
        "# ---\n",
        "# Using the Ebola cases dataset, create a waffle chart that provides \n",
        "# insights on the ebola cases in west africa in 2014. \n",
        "# Use an icon that represennts people in your visualisation. \n",
        "# You can reference: https://fontawesome.com/icons?d=gallery to get \n",
        "# the appropriate icon.\n",
        "# ---\n",
        "# Dataset url = https://bit.ly/2T60DKG\n",
        "# ---\n",
        "# OUR CODE GOES BELOW\n",
        "# "
      ],
      "execution_count": 0,
      "outputs": []
    },
    {
      "cell_type": "markdown",
      "metadata": {
        "id": "SoDgeeHfvDS_",
        "colab_type": "text"
      },
      "source": [
        "## 7. Exporting Visualisations\n",
        " "
      ]
    },
    {
      "cell_type": "markdown",
      "metadata": {
        "colab_type": "text",
        "id": "vR64YCKrvMcY"
      },
      "source": [
        "### <font color=\"blue\">Examples</font>"
      ]
    },
    {
      "cell_type": "code",
      "metadata": {
        "id": "Micap82mTtTl",
        "colab_type": "code",
        "colab": {}
      },
      "source": [
        "# Example 1\n",
        "# ---\n",
        "# This example will show us how we can download our visualisation from colaboratory\n",
        "# ---\n",
        "# \n",
        "\n",
        "# We first import the files module which will allow us to download our file from colaboratory\n",
        "# ---\n",
        "# \n",
        "from google.colab import files\n",
        "\n",
        "# Then, we export our visualisation in png format or any other desired format i.e png, jpeg or pdf\n",
        "# right after performing our plotting as shown in the timeseries dataset that we created earlier on.\n",
        "# ---\n",
        "# \n",
        "airline_df = pd.read_csv('https://bit.ly/DSAirlinePassengers')\n",
        "plt.subplots(figsize=(10,6))   \n",
        "sns.lineplot(x=\"month\", y=\"passengers_in_thousands\", data=airline_df_1949)\n",
        "plt.title('Time series of Airline Passengers during the year 1949') \n",
        "plt.xlabel('Months') \n",
        "plt.ylabel('Airline Passengers in Thousands')  \n",
        "plt.xticks(rotation=45)\n",
        "\n",
        "# We save our visualisaation in our desired format as shown\n",
        "# ---\n",
        "# \n",
        "plt.savefig(\"airline_timeseries.jpeg\", bbox_inches='tight')\n",
        "\n",
        "# And later download the respective file\n",
        "# ---\n",
        "#\n",
        "files.download(\"airline_timeseries.jpeg\");"
      ],
      "execution_count": 0,
      "outputs": []
    },
    {
      "cell_type": "markdown",
      "metadata": {
        "colab_type": "text",
        "id": "xH2tJyLYvQ9j"
      },
      "source": [
        "### <font color=\"green\">Challenges</font>"
      ]
    },
    {
      "cell_type": "code",
      "metadata": {
        "colab_type": "code",
        "id": "E8thrNLevQ9l",
        "colab": {}
      },
      "source": [
        "# Challenge\n",
        "# ---\n",
        "# Export the waffle visualisation that you created to visualise\n",
        "# the Ebola cases in west Africa in 2014.\n",
        "# The resulting file should be in jpeg format.\n",
        "# ---\n",
        "# OUR CODE GOES BELOW\n",
        "# "
      ],
      "execution_count": 0,
      "outputs": []
    }
  ]
}